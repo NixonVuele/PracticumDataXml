{
 "cells": [
  {
   "cell_type": "code",
   "execution_count": 40,
   "id": "a85282e9",
   "metadata": {},
   "outputs": [
    {
     "data": {
      "text/html": [
       "<div>\n",
       "<style scoped>\n",
       "    .dataframe tbody tr th:only-of-type {\n",
       "        vertical-align: middle;\n",
       "    }\n",
       "\n",
       "    .dataframe tbody tr th {\n",
       "        vertical-align: top;\n",
       "    }\n",
       "\n",
       "    .dataframe thead th {\n",
       "        text-align: right;\n",
       "    }\n",
       "</style>\n",
       "<table border=\"1\" class=\"dataframe\">\n",
       "  <thead>\n",
       "    <tr style=\"text-align: right;\">\n",
       "      <th></th>\n",
       "      <th>Unnamed: 0</th>\n",
       "      <th>content</th>\n",
       "      <th>sentiment</th>\n",
       "    </tr>\n",
       "  </thead>\n",
       "  <tbody>\n",
       "    <tr>\n",
       "      <th>0</th>\n",
       "      <td>0</td>\n",
       "      <td>Yo espero tranquila. Si gana de nvo alg partid...</td>\n",
       "      <td>NEU</td>\n",
       "    </tr>\n",
       "    <tr>\n",
       "      <th>1</th>\n",
       "      <td>1</td>\n",
       "      <td>Los fracasos de Michelle, Cristina y Dilma mue...</td>\n",
       "      <td>N</td>\n",
       "    </tr>\n",
       "    <tr>\n",
       "      <th>2</th>\n",
       "      <td>2</td>\n",
       "      <td>Debemos orar por los hnos venezolanos gente q ...</td>\n",
       "      <td>N</td>\n",
       "    </tr>\n",
       "    <tr>\n",
       "      <th>3</th>\n",
       "      <td>3</td>\n",
       "      <td>Me dijo que no le había gustado no se cuantas ...</td>\n",
       "      <td>NEU</td>\n",
       "    </tr>\n",
       "    <tr>\n",
       "      <th>4</th>\n",
       "      <td>4</td>\n",
       "      <td>@susanagkp jajaja yo fui el viernes ! precavid...</td>\n",
       "      <td>N</td>\n",
       "    </tr>\n",
       "  </tbody>\n",
       "</table>\n",
       "</div>"
      ],
      "text/plain": [
       "   Unnamed: 0                                            content sentiment\n",
       "0           0  Yo espero tranquila. Si gana de nvo alg partid...       NEU\n",
       "1           1  Los fracasos de Michelle, Cristina y Dilma mue...         N\n",
       "2           2  Debemos orar por los hnos venezolanos gente q ...         N\n",
       "3           3  Me dijo que no le había gustado no se cuantas ...       NEU\n",
       "4           4  @susanagkp jajaja yo fui el viernes ! precavid...         N"
      ]
     },
     "execution_count": 40,
     "metadata": {},
     "output_type": "execute_result"
    }
   ],
   "source": [
    "import numpy as np\n",
    "from sklearn.manifold import TSNE\n",
    "\n",
    " \n",
    "import pandas as pd\n",
    "country = pd.read_csv('Data/Countrys.csv')\n",
    "country.head()"
   ]
  },
  {
   "cell_type": "code",
   "execution_count": 41,
   "id": "ff88c552",
   "metadata": {},
   "outputs": [],
   "source": [
    "countryContSen = country[['content','sentiment']].copy()\n",
    "countryContSen['sentiment'] = countryContSen.sentiment.map({'NONE':0,'N':1,'NEU':2, 'P':3})"
   ]
  },
  {
   "cell_type": "code",
   "execution_count": 42,
   "id": "f951e016",
   "metadata": {},
   "outputs": [],
   "source": [
    "# Importar el contador de vectorizacion e inicializarlo\n",
    "from sklearn.feature_extraction.text import CountVectorizer\n",
    "count_vector = CountVectorizer()"
   ]
  },
  {
   "cell_type": "code",
   "execution_count": 43,
   "id": "389478f4",
   "metadata": {},
   "outputs": [
    {
     "name": "stdout",
     "output_type": "stream",
     "text": [
      "sentiment\n",
      "0     694\n",
      "1    1410\n",
      "2     532\n",
      "3    1039\n",
      "dtype: int64\n"
     ]
    }
   ],
   "source": [
    "print(countryContSen.groupby('sentiment').size())"
   ]
  },
  {
   "cell_type": "code",
   "execution_count": 44,
   "id": "597b62aa",
   "metadata": {},
   "outputs": [
    {
     "data": {
      "text/html": [
       "<div>\n",
       "<style scoped>\n",
       "    .dataframe tbody tr th:only-of-type {\n",
       "        vertical-align: middle;\n",
       "    }\n",
       "\n",
       "    .dataframe tbody tr th {\n",
       "        vertical-align: top;\n",
       "    }\n",
       "\n",
       "    .dataframe thead th {\n",
       "        text-align: right;\n",
       "    }\n",
       "</style>\n",
       "<table border=\"1\" class=\"dataframe\">\n",
       "  <thead>\n",
       "    <tr style=\"text-align: right;\">\n",
       "      <th></th>\n",
       "      <th>content</th>\n",
       "      <th>sentiment</th>\n",
       "      <th>countW</th>\n",
       "    </tr>\n",
       "  </thead>\n",
       "  <tbody>\n",
       "    <tr>\n",
       "      <th>0</th>\n",
       "      <td>Yo espero tranquila. Si gana de nvo alg partid...</td>\n",
       "      <td>2</td>\n",
       "      <td>23</td>\n",
       "    </tr>\n",
       "    <tr>\n",
       "      <th>1</th>\n",
       "      <td>Los fracasos de Michelle, Cristina y Dilma mue...</td>\n",
       "      <td>1</td>\n",
       "      <td>24</td>\n",
       "    </tr>\n",
       "    <tr>\n",
       "      <th>2</th>\n",
       "      <td>Debemos orar por los hnos venezolanos gente q ...</td>\n",
       "      <td>1</td>\n",
       "      <td>25</td>\n",
       "    </tr>\n",
       "    <tr>\n",
       "      <th>3</th>\n",
       "      <td>Me dijo que no le había gustado no se cuantas ...</td>\n",
       "      <td>2</td>\n",
       "      <td>24</td>\n",
       "    </tr>\n",
       "    <tr>\n",
       "      <th>4</th>\n",
       "      <td>@susanagkp jajaja yo fui el viernes ! precavid...</td>\n",
       "      <td>1</td>\n",
       "      <td>26</td>\n",
       "    </tr>\n",
       "    <tr>\n",
       "      <th>...</th>\n",
       "      <td>...</td>\n",
       "      <td>...</td>\n",
       "      <td>...</td>\n",
       "    </tr>\n",
       "    <tr>\n",
       "      <th>3670</th>\n",
       "      <td>Quiero como tener carro para hacer todo rápido</td>\n",
       "      <td>2</td>\n",
       "      <td>8</td>\n",
       "    </tr>\n",
       "    <tr>\n",
       "      <th>3671</th>\n",
       "      <td>Tristeza más hp me da siempre en año nuevo</td>\n",
       "      <td>1</td>\n",
       "      <td>9</td>\n",
       "    </tr>\n",
       "    <tr>\n",
       "      <th>3672</th>\n",
       "      <td>no encuentro ninguna buena serie en NF.</td>\n",
       "      <td>1</td>\n",
       "      <td>7</td>\n",
       "    </tr>\n",
       "    <tr>\n",
       "      <th>3673</th>\n",
       "      <td>@Alphasniper97 Alpha suerte y ten un feliz año...</td>\n",
       "      <td>3</td>\n",
       "      <td>9</td>\n",
       "    </tr>\n",
       "    <tr>\n",
       "      <th>3674</th>\n",
       "      <td>@sancarlena77 @miguelpintor05 @demalaspalabras...</td>\n",
       "      <td>0</td>\n",
       "      <td>10</td>\n",
       "    </tr>\n",
       "  </tbody>\n",
       "</table>\n",
       "<p>3675 rows × 3 columns</p>\n",
       "</div>"
      ],
      "text/plain": [
       "                                                content  sentiment  countW\n",
       "0     Yo espero tranquila. Si gana de nvo alg partid...          2      23\n",
       "1     Los fracasos de Michelle, Cristina y Dilma mue...          1      24\n",
       "2     Debemos orar por los hnos venezolanos gente q ...          1      25\n",
       "3     Me dijo que no le había gustado no se cuantas ...          2      24\n",
       "4     @susanagkp jajaja yo fui el viernes ! precavid...          1      26\n",
       "...                                                 ...        ...     ...\n",
       "3670     Quiero como tener carro para hacer todo rápido          2       8\n",
       "3671         Tristeza más hp me da siempre en año nuevo          1       9\n",
       "3672            no encuentro ninguna buena serie en NF.          1       7\n",
       "3673  @Alphasniper97 Alpha suerte y ten un feliz año...          3       9\n",
       "3674  @sancarlena77 @miguelpintor05 @demalaspalabras...          0      10\n",
       "\n",
       "[3675 rows x 3 columns]"
      ]
     },
     "execution_count": 44,
     "metadata": {},
     "output_type": "execute_result"
    }
   ],
   "source": [
    "countW = []\n",
    "# Conteo de palabras\n",
    "for i in countryContSen.content.tolist():\n",
    "    countW.append(len(i.split()))\n",
    "dfc = countryContSen.assign(countW = countW)\n",
    "dfc"
   ]
  },
  {
   "cell_type": "code",
   "execution_count": 45,
   "id": "1cf52e15",
   "metadata": {},
   "outputs": [],
   "source": [
    "from sklearn.preprocessing import MinMaxScaler\n",
    "from sklearn.neighbors import KNeighborsClassifier\n",
    "from sklearn.metrics import classification_report\n",
    "from sklearn.metrics import confusion_matrix\n",
    "from sklearn.model_selection import train_test_split\n",
    "# prepara los datos \n",
    "X = dfc[['countW']].values\n",
    "y = dfc['sentiment'].values\n",
    "\n",
    "X_train, X_test, y_train, y_test = train_test_split(X, y, random_state=1)\n",
    "scaler = MinMaxScaler()\n",
    "X_train = scaler.fit_transform(X_train)\n",
    "X_test = scaler.transform(X_test)"
   ]
  },
  {
   "cell_type": "code",
   "execution_count": 46,
   "id": "84f89ddd",
   "metadata": {},
   "outputs": [
    {
     "name": "stdout",
     "output_type": "stream",
     "text": [
      "Accuracy of K-NN classifier on training set: 0.33\n",
      "Accuracy of K-NN classifier on test set: 0.28\n"
     ]
    }
   ],
   "source": [
    "#Se crea el clasificador\n",
    "n_neighbors = 16\n",
    "\n",
    "knn = KNeighborsClassifier(n_neighbors)\n",
    "knn.fit(X_train, y_train)\n",
    "print('Accuracy of K-NN classifier on training set: {:.2f}'\n",
    "     .format(knn.score(X_train, y_train)))\n",
    "print('Accuracy of K-NN classifier on test set: {:.2f}'\n",
    "     .format(knn.score(X_test, y_test)))"
   ]
  },
  {
   "cell_type": "code",
   "execution_count": 47,
   "id": "16530cc5",
   "metadata": {},
   "outputs": [
    {
     "name": "stdout",
     "output_type": "stream",
     "text": [
      "[[ 37  96   5  48]\n",
      " [ 83 163  14  91]\n",
      " [ 30  65   3  42]\n",
      " [ 57 115  17  53]]\n",
      "              precision    recall  f1-score   support\n",
      "\n",
      "           0       0.18      0.20      0.19       186\n",
      "           1       0.37      0.46      0.41       351\n",
      "           2       0.08      0.02      0.03       140\n",
      "           3       0.23      0.22      0.22       242\n",
      "\n",
      "    accuracy                           0.28       919\n",
      "   macro avg       0.21      0.23      0.21       919\n",
      "weighted avg       0.25      0.28      0.26       919\n",
      "\n"
     ]
    }
   ],
   "source": [
    "#precision del modelo\n",
    "pred = knn.predict(X_test)\n",
    "print(confusion_matrix(y_test, pred))\n",
    "print(classification_report(y_test, pred))"
   ]
  },
  {
   "cell_type": "code",
   "execution_count": 48,
   "id": "37e5e914",
   "metadata": {},
   "outputs": [],
   "source": [
    "# Clasificación obtenida\n",
    "k_range = range(1, 20)\n",
    "scores = []\n",
    "for k in k_range:\n",
    "    knn = KNeighborsClassifier(n_neighbors = k)\n",
    "    knn.fit(X_train, y_train)\n",
    "    scores.append(knn.score(X_test, y_test))"
   ]
  },
  {
   "cell_type": "code",
   "execution_count": 49,
   "id": "7b7946b7",
   "metadata": {},
   "outputs": [],
   "source": [
    "import pickle"
   ]
  },
  {
   "cell_type": "code",
   "execution_count": 50,
   "id": "9fed4155",
   "metadata": {},
   "outputs": [],
   "source": [
    "# pickling the vectorizer\n",
    "pickle.dump(count_vector, open('Modelos/vectorizerKNN.sav', 'wb'))\n",
    "\n",
    "# pickling the model\n",
    "pickle.dump(knn, open('Modelos/classifierKNN.sav', 'wb'))"
   ]
  },
  {
   "cell_type": "code",
   "execution_count": null,
   "id": "b12923d8",
   "metadata": {},
   "outputs": [],
   "source": []
  },
  {
   "cell_type": "code",
   "execution_count": null,
   "id": "95f15da2",
   "metadata": {},
   "outputs": [],
   "source": []
  }
 ],
 "metadata": {
  "kernelspec": {
   "display_name": "Python 3 (ipykernel)",
   "language": "python",
   "name": "python3"
  },
  "language_info": {
   "codemirror_mode": {
    "name": "ipython",
    "version": 3
   },
   "file_extension": ".py",
   "mimetype": "text/x-python",
   "name": "python",
   "nbconvert_exporter": "python",
   "pygments_lexer": "ipython3",
   "version": "3.10.4"
  }
 },
 "nbformat": 4,
 "nbformat_minor": 5
}

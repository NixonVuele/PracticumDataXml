{
 "cells": [
  {
   "cell_type": "code",
   "execution_count": 307,
   "id": "07d5cae9",
   "metadata": {},
   "outputs": [],
   "source": [
    "# Se importa las librerias que se van a usar\n",
    "import pandas as pd \n",
    "from xml.dom import minidom\n",
    "from xml.etree.ElementTree import parse"
   ]
  },
  {
   "cell_type": "code",
   "execution_count": 308,
   "id": "13061884",
   "metadata": {},
   "outputs": [
    {
     "name": "stdout",
     "output_type": "stream",
     "text": [
      "<xml.etree.ElementTree.ElementTree object at 0x7fcb2d270700>\n"
     ]
    }
   ],
   "source": [
    "# Se guarda el xml en un document\n",
    "documentUY = parse('Data/TASS2019_country_UY_train.xml')\n",
    "print(documentUY)"
   ]
  },
  {
   "cell_type": "code",
   "execution_count": 309,
   "id": "5f60ee90",
   "metadata": {},
   "outputs": [
    {
     "name": "stdout",
     "output_type": "stream",
     "text": [
      "['NEU', 'N', 'N', 'NEU', 'N', 'N', 'N', 'NEU', 'N', 'N', 'NONE', 'NEU', 'NEU', 'N', 'N', 'NEU', 'N', 'P', 'NEU', 'NONE', 'P', 'P', 'NEU', 'NONE', 'P', 'N', 'P', 'N', 'N', 'P', 'P', 'P', 'P', 'N', 'N', 'NONE', 'P', 'N', 'NONE', 'NEU', 'NEU', 'P', 'N', 'P', 'P', 'N', 'P', 'P', 'NEU', 'P', 'N', 'NEU', 'P', 'NONE', 'NONE', 'NEU', 'N', 'N', 'P', 'P', 'P', 'NEU', 'N', 'P', 'NEU', 'P', 'N', 'N', 'N', 'P', 'N', 'P', 'P', 'P', 'N', 'N', 'P', 'N', 'P', 'NEU', 'N', 'P', 'P', 'NEU', 'P', 'N', 'N', 'NEU', 'N', 'P', 'N', 'N', 'N', 'N', 'NONE', 'P', 'P', 'N', 'N', 'N', 'P', 'P', 'P', 'N', 'NEU', 'NEU', 'N', 'P', 'NEU', 'N', 'P', 'NONE', 'NEU', 'P', 'NEU', 'NEU', 'N', 'NEU', 'N', 'N', 'N', 'N', 'NEU', 'P', 'NEU', 'P', 'P', 'P', 'NEU', 'P', 'NEU', 'P', 'N', 'P', 'NEU', 'P', 'P', 'N', 'P', 'NONE', 'NEU', 'N', 'NEU', 'N', 'NEU', 'P', 'NONE', 'N', 'N', 'NEU', 'P', 'N', 'P', 'N', 'N', 'N', 'P', 'N', 'P', 'P', 'NEU', 'N', 'P', 'NONE', 'P', 'NEU', 'P', 'N', 'N', 'N', 'N', 'P', 'P', 'P', 'NEU', 'NEU', 'N', 'N', 'NEU', 'N', 'N', 'P', 'P', 'NEU', 'NEU', 'N', 'P', 'NEU', 'N', 'P', 'P', 'N', 'NEU', 'N', 'NONE', 'NEU', 'P', 'N', 'NONE', 'N', 'NONE', 'N', 'N', 'N', 'P', 'N', 'N', 'P', 'N', 'N', 'N', 'P', 'P', 'NONE', 'N', 'N', 'NEU', 'P', 'N', 'P', 'P', 'N', 'NEU', 'P', 'N', 'NONE', 'NONE', 'N', 'N', 'P', 'N', 'N', 'N', 'N', 'NEU', 'NONE', 'N', 'NEU', 'N', 'N', 'N', 'NONE', 'NEU', 'N', 'NEU', 'NEU', 'N', 'NONE', 'N', 'N', 'P', 'N', 'N', 'N', 'P', 'P', 'P', 'N', 'N', 'NEU', 'N', 'P', 'NEU', 'N', 'N', 'N', 'N', 'P', 'P', 'N', 'P', 'P', 'NEU', 'NEU', 'NEU', 'P', 'P', 'NONE', 'N', 'NEU', 'N', 'P', 'NEU', 'N', 'N', 'P', 'N', 'NEU', 'NONE', 'NEU', 'N', 'P', 'NONE', 'P', 'P', 'NONE', 'NONE', 'N', 'N', 'NEU', 'N', 'N', 'NEU', 'P', 'P', 'N', 'N', 'N', 'N', 'N', 'P', 'NEU', 'NEU', 'N', 'P', 'N', 'N', 'NONE', 'NEU', 'P', 'N', 'P', 'N', 'NONE', 'N', 'NEU', 'N', 'NEU', 'N', 'N', 'NEU', 'N', 'P', 'N', 'N', 'NONE', 'NONE', 'N', 'N', 'NONE', 'N', 'NEU', 'NONE', 'P', 'N', 'N', 'NEU', 'N', 'P', 'NONE', 'P', 'N', 'NEU', 'P', 'NONE', 'NEU', 'NEU', 'N', 'N', 'P', 'N', 'N', 'NONE', 'NONE', 'P', 'P', 'P', 'N', 'N', 'NONE', 'P', 'N', 'P', 'NONE', 'N', 'NONE', 'NONE', 'N', 'N', 'N', 'P', 'P', 'P', 'N', 'NEU', 'NONE', 'N', 'N', 'N', 'P', 'NEU', 'N', 'N', 'N', 'N', 'NONE', 'NEU', 'P', 'NEU', 'P', 'N', 'P', 'P', 'NEU', 'P', 'N', 'NONE', 'NONE', 'P', 'NONE', 'P', 'NONE', 'N', 'P', 'NONE', 'NEU', 'P', 'N', 'P', 'N', 'P', 'NONE', 'P', 'NONE', 'N', 'N', 'NEU', 'N', 'N', 'NONE', 'P', 'P', 'NEU', 'NEU', 'P', 'N', 'P', 'N', 'P', 'NEU', 'N', 'N', 'NONE', 'NONE', 'NEU', 'P', 'NEU', 'N', 'N', 'P', 'NONE', 'NEU', 'P', 'P', 'P', 'P', 'N', 'P', 'P', 'P', 'N', 'N', 'NEU', 'P', 'NEU', 'P', 'N', 'P', 'NEU', 'NEU', 'N', 'NEU', 'N', 'NEU', 'N', 'NEU', 'N', 'P', 'N', 'P', 'P', 'N', 'N', 'NONE', 'N', 'P', 'NEU', 'P', 'NONE', 'N', 'N', 'P', 'N', 'N', 'P', 'NEU', 'P', 'NEU', 'NEU', 'N', 'NEU', 'N', 'N', 'P', 'NEU', 'P', 'N', 'P', 'N', 'N', 'NONE', 'P', 'P', 'P', 'NEU', 'N', 'P', 'N', 'NEU', 'NEU', 'P', 'N', 'NEU', 'P', 'P', 'NONE', 'NEU', 'NEU', 'N', 'NEU', 'P', 'N', 'NEU', 'P', 'P', 'NEU', 'N', 'NONE', 'NEU', 'P', 'N', 'P', 'P', 'NEU', 'P', 'NONE', 'NEU', 'P', 'P', 'P', 'N', 'NEU', 'NEU', 'P', 'N', 'NEU', 'P', 'NEU', 'NEU', 'N', 'N', 'NONE', 'NEU', 'NEU', 'NEU', 'N', 'NEU', 'N', 'N', 'N', 'N', 'N', 'N', 'N', 'N', 'N', 'N', 'NEU', 'NONE', 'N', 'P', 'P', 'NEU', 'NEU', 'N', 'N', 'N', 'N', 'P', 'NONE', 'NONE', 'N', 'NEU', 'NONE', 'NEU', 'N', 'N', 'N', 'N', 'N', 'P', 'P', 'N', 'N', 'N', 'P', 'NEU', 'N', 'N', 'P', 'N', 'N', 'NEU', 'N', 'N', 'NONE', 'NONE', 'P', 'N', 'P', 'NONE', 'N', 'P', 'N', 'P', 'NEU', 'N', 'NONE', 'NONE', 'P', 'P', 'P', 'P', 'NEU', 'NONE', 'P', 'N', 'N', 'NEU', 'P', 'P', 'N', 'NONE', 'N', 'N', 'NEU', 'P', 'NEU', 'N', 'N', 'N', 'N', 'NEU', 'P', 'P', 'NEU', 'P', 'P', 'P', 'P', 'P', 'N', 'NONE', 'P', 'NEU', 'NEU', 'P', 'N', 'N', 'P', 'N', 'N', 'N', 'NONE', 'P', 'P', 'P', 'P', 'NEU', 'NEU', 'NEU', 'P', 'N', 'P', 'P', 'N', 'N', 'P', 'NEU', 'NEU', 'P', 'P', 'N', 'P', 'NEU', 'P', 'P', 'N', 'NEU', 'NEU', 'P', 'NONE', 'P', 'N', 'N', 'NEU', 'N', 'N', 'N', 'P', 'NONE', 'NEU', 'NEU', 'P', 'N', 'N', 'N', 'N', 'N', 'P', 'N', 'P', 'P', 'N', 'N', 'P', 'N', 'P', 'N', 'N', 'P', 'P', 'NONE', 'N', 'NEU', 'N', 'NEU', 'N', 'NEU', 'N', 'N', 'P', 'N', 'P', 'P', 'N', 'N', 'P', 'N', 'NEU', 'NONE', 'N', 'P', 'P', 'P', 'N', 'NEU', 'NONE', 'P', 'P', 'N', 'N', 'NEU', 'N', 'NONE', 'P', 'N', 'NONE', 'N', 'N', 'P', 'N', 'N', 'P', 'P', 'N', 'NEU', 'P', 'N', 'P', 'N', 'NEU', 'NEU', 'P', 'N', 'P', 'P', 'P', 'NEU', 'N', 'NEU', 'N', 'N', 'N', 'N', 'N', 'NEU', 'NEU', 'NEU', 'P', 'N', 'NEU', 'N', 'N', 'P', 'N', 'N', 'NEU', 'N', 'P', 'P', 'N', 'N', 'N', 'P', 'P', 'N', 'P', 'N', 'N', 'NEU', 'N', 'N', 'N', 'N', 'NEU', 'P', 'P', 'N', 'NEU', 'NEU', 'P', 'N', 'NEU', 'N', 'P', 'N', 'NONE', 'P', 'NEU', 'NEU', 'P', 'N', 'NEU', 'N', 'NEU', 'N', 'NONE', 'NONE', 'N', 'P', 'NEU', 'NONE', 'N', 'NONE', 'N', 'N', 'P', 'NEU', 'P', 'N', 'N', 'NEU', 'NONE', 'NEU', 'NEU', 'P', 'P', 'NONE', 'P', 'P', 'N', 'P', 'NONE', 'NEU', 'P', 'NONE', 'P', 'NEU', 'N', 'P', 'N', 'N', 'P', 'N', 'P', 'NONE', 'N', 'P', 'NONE', 'N', 'P', 'N', 'N', 'N', 'NEU', 'P', 'N', 'NEU', 'NONE', 'N', 'NEU', 'P', 'P', 'NEU', 'N', 'N', 'P', 'P', 'N', 'P', 'NEU', 'NEU', 'P', 'N', 'NEU', 'N', 'NEU', 'P', 'P', 'N', 'NEU', 'P', 'P', 'N', 'N', 'N', 'NONE', 'P', 'N', 'P', 'NEU', 'N', 'P', 'P', 'NEU', 'P', 'P', 'NONE', 'NEU', 'N', 'N', 'NEU']\n"
     ]
    }
   ],
   "source": [
    "# Se presenta la lista de sentimientos y se pasa todos los datos\n",
    "# a una lista con el objetivo de pasarlos a un data frame.\n",
    "listid= []\n",
    "listUser = []\n",
    "listContent = []\n",
    "listDate = []\n",
    "listlang = []\n",
    "listSentiment=[]\n",
    "for item in documentUY.iterfind('tweet'):\n",
    "    listid.append(item.findtext('tweetid'))\n",
    "    listUser.append(item.findtext('user'))\n",
    "    listContent.append(item.findtext('content'))\n",
    "    listDate.append(item.findtext('date'))\n",
    "    listlang.append(item.findtext('lang'))\n",
    "    listSentiment.append(item.find('sentiment').find(\"polarity\").findtext('value'))\n",
    "print(listSentiment)"
   ]
  },
  {
   "cell_type": "code",
   "execution_count": 310,
   "id": "17793696",
   "metadata": {},
   "outputs": [
    {
     "name": "stdout",
     "output_type": "stream",
     "text": [
      "Lista id: 943\n",
      "Lista user: 943\n",
      "Lista content: 943\n",
      "Lista date: 943\n",
      "Lista lang: 943\n",
      "Lista sentiment: 943\n"
     ]
    }
   ],
   "source": [
    "# Se cuenta si el numero de filas son las mismas que hay en todas las columnas\n",
    "print(\"Lista id:\",len(listid))\n",
    "print(\"Lista user:\",len(listUser))\n",
    "print(\"Lista content:\",len(listContent))\n",
    "print(\"Lista date:\",len(listDate))\n",
    "print(\"Lista lang:\",len(listlang))\n",
    "print(\"Lista sentiment:\",len(listSentiment))\n"
   ]
  },
  {
   "cell_type": "code",
   "execution_count": 311,
   "id": "aa408343",
   "metadata": {},
   "outputs": [],
   "source": [
    "countryUYComplete = pd.DataFrame({'tweetid':listid,'user': listUser, 'content':listContent ,'date:':listDate,'lang':listlang,'sentiment':listSentiment})"
   ]
  },
  {
   "cell_type": "code",
   "execution_count": 312,
   "id": "557ae12a",
   "metadata": {},
   "outputs": [],
   "source": [
    "countryUY = pd.DataFrame(countryUYComplete[['content','sentiment']])"
   ]
  },
  {
   "cell_type": "code",
   "execution_count": 313,
   "id": "25c0d488",
   "metadata": {},
   "outputs": [],
   "source": [
    "# ----------------------COUNTRY PE--------------------"
   ]
  },
  {
   "cell_type": "code",
   "execution_count": 314,
   "id": "4c12ce16",
   "metadata": {},
   "outputs": [
    {
     "name": "stdout",
     "output_type": "stream",
     "text": [
      "<xml.etree.ElementTree.ElementTree object at 0x7fcb2d271450>\n"
     ]
    }
   ],
   "source": [
    "# Se guarda el xml en un document\n",
    "documentPE = parse('Data/TASS2019_country_PE_train.xml')\n",
    "print(documentPE)"
   ]
  },
  {
   "cell_type": "code",
   "execution_count": 315,
   "id": "ba5afb62",
   "metadata": {},
   "outputs": [
    {
     "name": "stdout",
     "output_type": "stream",
     "text": [
      "['P', 'N', 'N', 'NEU', 'NEU', 'NEU', 'NEU', 'N', 'NONE', 'P', 'NEU', 'P', 'NONE', 'NONE', 'NONE', 'NONE', 'N', 'NEU', 'NONE', 'N', 'NONE', 'NEU', 'NONE', 'NONE', 'P', 'NONE', 'N', 'NEU', 'P', 'NEU', 'NONE', 'P', 'NONE', 'N', 'N', 'P', 'NEU', 'NONE', 'P', 'NEU', 'N', 'NONE', 'NONE', 'NONE', 'NONE', 'NEU', 'P', 'P', 'NONE', 'NONE', 'NONE', 'NONE', 'N', 'NONE', 'NEU', 'NONE', 'NEU', 'NEU', 'P', 'N', 'NONE', 'NEU', 'P', 'NEU', 'P', 'NONE', 'P', 'N', 'NEU', 'NEU', 'P', 'P', 'NEU', 'NEU', 'NONE', 'NONE', 'NEU', 'P', 'NONE', 'N', 'P', 'NEU', 'P', 'NONE', 'NONE', 'NONE', 'P', 'P', 'N', 'N', 'P', 'NONE', 'NONE', 'NONE', 'NONE', 'NEU', 'P', 'P', 'NONE', 'N', 'N', 'P', 'N', 'NONE', 'P', 'NONE', 'NONE', 'N', 'N', 'NONE', 'P', 'N', 'P', 'P', 'P', 'NONE', 'P', 'NONE', 'P', 'N', 'NONE', 'P', 'NEU', 'N', 'P', 'NEU', 'NONE', 'NEU', 'N', 'N', 'NONE', 'NONE', 'NONE', 'P', 'NONE', 'NONE', 'NEU', 'P', 'P', 'NONE', 'NONE', 'NONE', 'NONE', 'P', 'P', 'N', 'N', 'P', 'N', 'NONE', 'P', 'NEU', 'NONE', 'P', 'N', 'NONE', 'NONE', 'N', 'NONE', 'N', 'NONE', 'NONE', 'P', 'P', 'N', 'NEU', 'P', 'N', 'N', 'NEU', 'N', 'P', 'NONE', 'P', 'N', 'NEU', 'N', 'NONE', 'P', 'NONE', 'P', 'NONE', 'N', 'NEU', 'P', 'P', 'P', 'P', 'NONE', 'NEU', 'N', 'NONE', 'NONE', 'NONE', 'N', 'NONE', 'N', 'NONE', 'N', 'NONE', 'NONE', 'N', 'NEU', 'NEU', 'N', 'P', 'N', 'NEU', 'NONE', 'NEU', 'P', 'NEU', 'P', 'P', 'NONE', 'NONE', 'P', 'NEU', 'N', 'N', 'NONE', 'NEU', 'N', 'NONE', 'N', 'N', 'NONE', 'N', 'NONE', 'NONE', 'NONE', 'P', 'NONE', 'N', 'P', 'P', 'NEU', 'NONE', 'P', 'N', 'NONE', 'P', 'P', 'NONE', 'NONE', 'NONE', 'NEU', 'NEU', 'N', 'NONE', 'NONE', 'P', 'NONE', 'NEU', 'NONE', 'NEU', 'NEU', 'NEU', 'NONE', 'NONE', 'N', 'P', 'P', 'NEU', 'NEU', 'NEU', 'N', 'N', 'NONE', 'P', 'N', 'P', 'P', 'NONE', 'N', 'NEU', 'N', 'N', 'NEU', 'N', 'P', 'N', 'N', 'N', 'NONE', 'N', 'P', 'N', 'N', 'P', 'NONE', 'N', 'NONE', 'NONE', 'P', 'N', 'P', 'NONE', 'NEU', 'P', 'NONE', 'N', 'N', 'N', 'N', 'NONE', 'N', 'P', 'P', 'NONE', 'P', 'N', 'P', 'NONE', 'N', 'NONE', 'N', 'NONE', 'NEU', 'NEU', 'P', 'N', 'N', 'NEU', 'NEU', 'P', 'P', 'P', 'NONE', 'P', 'N', 'P', 'P', 'P', 'NONE', 'N', 'NEU', 'P', 'NEU', 'P', 'P', 'NONE', 'NONE', 'NEU', 'NEU', 'P', 'NONE', 'P', 'NONE', 'N', 'NONE', 'N', 'NONE', 'P', 'N', 'N', 'N', 'P', 'N', 'NEU', 'N', 'NEU', 'N', 'NEU', 'NONE', 'N', 'P', 'NEU', 'N', 'NONE', 'P', 'N', 'P', 'NEU', 'NONE', 'NEU', 'P', 'P', 'P', 'NONE', 'NONE', 'NONE', 'NEU', 'N', 'NONE', 'NONE', 'NONE', 'N', 'NONE', 'NEU', 'N', 'N', 'NONE', 'NONE', 'NONE', 'P', 'NONE', 'NONE', 'N', 'NONE', 'N', 'NONE', 'NONE', 'N', 'N', 'NEU', 'P', 'NEU', 'NONE', 'NEU', 'NEU', 'N', 'NEU', 'NONE', 'N', 'P', 'NONE', 'NONE', 'P', 'NONE', 'NONE', 'P', 'N', 'NONE', 'N', 'NONE', 'N', 'NONE', 'NEU', 'NONE', 'NEU', 'N', 'P', 'NONE', 'N', 'NONE', 'NONE', 'NONE', 'N', 'NONE', 'NONE', 'P', 'NONE', 'P', 'P', 'NEU', 'NONE', 'NONE', 'N', 'NEU', 'NONE', 'P', 'NONE', 'NONE', 'N', 'NONE', 'P', 'P', 'NONE', 'NEU', 'N', 'NONE', 'N', 'NEU', 'N', 'N', 'NONE', 'P', 'NONE', 'NONE', 'NONE', 'N', 'NONE', 'NONE', 'N', 'NONE', 'NONE', 'N', 'NONE', 'P', 'NONE', 'P', 'NEU', 'N', 'NONE', 'N', 'P', 'N', 'NONE', 'P', 'NEU', 'P', 'N', 'NONE', 'N', 'NEU', 'P', 'NONE', 'NONE', 'NONE', 'NONE', 'N', 'NONE', 'P', 'NEU', 'N', 'P', 'P', 'N', 'NEU', 'NEU', 'NEU', 'N', 'NONE', 'P', 'N', 'NONE', 'NEU', 'P', 'N', 'NEU', 'N', 'NONE', 'N', 'NONE', 'NONE', 'NEU', 'NONE', 'N', 'P', 'P', 'NONE', 'NONE', 'NONE', 'NONE', 'P', 'N', 'NEU', 'P', 'NONE', 'N', 'NONE', 'N', 'NEU', 'NONE', 'NONE', 'NONE', 'NONE', 'NONE', 'NONE', 'NONE', 'N', 'NONE', 'NONE', 'N', 'NONE', 'NONE', 'P', 'P', 'NONE', 'NONE', 'NEU', 'NONE', 'P', 'NEU', 'NONE', 'NEU', 'N', 'NONE', 'NONE', 'NONE', 'P', 'N', 'NEU', 'NEU', 'NONE', 'P', 'NEU', 'NEU', 'NONE', 'N', 'NEU', 'NONE', 'P', 'NEU', 'NONE', 'P', 'NEU', 'N', 'NEU', 'NONE', 'NONE', 'NONE', 'NEU', 'P', 'NONE', 'NONE', 'NEU', 'P', 'N', 'P', 'N', 'NONE', 'P', 'P', 'NONE', 'NONE', 'NONE', 'NONE', 'NONE', 'NEU', 'NEU', 'N', 'NONE', 'NONE', 'P', 'N', 'NEU', 'N', 'NONE', 'N', 'P', 'N', 'NONE', 'NONE', 'NEU', 'NEU', 'P', 'N', 'NONE', 'P', 'NONE', 'NONE', 'NEU', 'NONE', 'NONE', 'P', 'NONE', 'NONE', 'P', 'NONE', 'NONE', 'NEU', 'N', 'NEU', 'NEU', 'N', 'N', 'NONE', 'NONE', 'P', 'NEU', 'P', 'P', 'N', 'NEU', 'NONE', 'NONE', 'NONE', 'NONE', 'NEU', 'NONE', 'NEU', 'NEU', 'NONE', 'P', 'NONE', 'NONE', 'N', 'P', 'P', 'NEU', 'N', 'P', 'P', 'NEU', 'NONE', 'P', 'N', 'P', 'P', 'P', 'P', 'NEU', 'N', 'NONE', 'P', 'NONE', 'P', 'N', 'P', 'N', 'N', 'NEU', 'P', 'P', 'P', 'NONE', 'P', 'NEU', 'NONE', 'N', 'P', 'NONE', 'NEU', 'P', 'NEU', 'NEU', 'NONE', 'NONE', 'NONE', 'P', 'NEU', 'P', 'NONE', 'NONE', 'NONE', 'NONE', 'NONE', 'NEU', 'NONE', 'N', 'NEU', 'NONE', 'P', 'NONE', 'P', 'NONE', 'NONE', 'NEU', 'N', 'N', 'NONE', 'N', 'NONE', 'NONE', 'N', 'N', 'NEU', 'NONE', 'NEU', 'P', 'NONE', 'N', 'NONE', 'N', 'P', 'N', 'N', 'P', 'P', 'NONE', 'N', 'NONE', 'NONE', 'P', 'NEU', 'NEU', 'P', 'NEU', 'P', 'NEU', 'P', 'N', 'NONE', 'N', 'P', 'P', 'N', 'N', 'NEU', 'NONE', 'P', 'NEU', 'P', 'NONE', 'N', 'N', 'N', 'NONE', 'P', 'NONE', 'NONE', 'NONE', 'P', 'P', 'N', 'NONE', 'NONE', 'NONE', 'N', 'NEU', 'N', 'N', 'N', 'NONE', 'NEU', 'N', 'N', 'N', 'NONE', 'NONE', 'N', 'NONE', 'P', 'N', 'NONE', 'P', 'N', 'P', 'N', 'P', 'P', 'NONE', 'NEU', 'NEU', 'N', 'NONE', 'NONE', 'N', 'P', 'P', 'NONE', 'P', 'NEU', 'NEU', 'NONE', 'NEU', 'N', 'NEU', 'N', 'NONE', 'NEU', 'P', 'N', 'NONE', 'NONE', 'NONE', 'NONE', 'NONE', 'NONE', 'NONE', 'NONE', 'P', 'NONE', 'NONE', 'NONE', 'NONE', 'NONE', 'N', 'NEU', 'P', 'N', 'P', 'NONE', 'NEU', 'NEU', 'NEU', 'NONE', 'NONE', 'N', 'NEU', 'N', 'NONE', 'NONE', 'NONE', 'P', 'NEU', 'N', 'NONE', 'NEU', 'N', 'NONE', 'NONE', 'NEU', 'P', 'P', 'NEU', 'NONE', 'P', 'NONE', 'NONE', 'P', 'NONE', 'NEU', 'P', 'NONE', 'NONE', 'NEU', 'NEU', 'P', 'NONE', 'N', 'NEU', 'NEU', 'N', 'NONE', 'P', 'NONE', 'P', 'NONE', 'NONE', 'P', 'P', 'NONE', 'NONE', 'NONE', 'N', 'P', 'N', 'NONE', 'NONE', 'NONE', 'N', 'P', 'NONE', 'N', 'N', 'N', 'P', 'P', 'N', 'N', 'NONE', 'N', 'NONE', 'N', 'NONE', 'N', 'N', 'NONE', 'NEU', 'NONE', 'NONE', 'NONE', 'NONE', 'NONE', 'N', 'NEU', 'N', 'P', 'NONE', 'N', 'N', 'NONE', 'N', 'NONE', 'N', 'N', 'NONE', 'N', 'NONE', 'NEU', 'N', 'NEU', 'NONE', 'NONE', 'NEU', 'NEU', 'N', 'N', 'N', 'NONE', 'NONE', 'NEU', 'NONE']\n"
     ]
    }
   ],
   "source": [
    "# Se presenta la lista de sentimientos y se pasa todos los mensajes\n",
    "# a una lista con el objetivo de pasarlos a un data frame.\n",
    "listContent = []\n",
    "listSentiment=[]\n",
    "for item in documentPE.iterfind('tweet'):\n",
    "    listContent.append(item.findtext('content'))\n",
    "    listSentiment.append(item.find('sentiment').find(\"polarity\").findtext('value'))\n",
    "print(listSentiment)"
   ]
  },
  {
   "cell_type": "code",
   "execution_count": 316,
   "id": "e392ffec",
   "metadata": {},
   "outputs": [
    {
     "name": "stdout",
     "output_type": "stream",
     "text": [
      "966\n",
      "966\n"
     ]
    }
   ],
   "source": [
    "print(len(listContent))\n",
    "print(len(listSentiment))"
   ]
  },
  {
   "cell_type": "code",
   "execution_count": 317,
   "id": "65545ac2",
   "metadata": {},
   "outputs": [],
   "source": [
    "countryPE = pd.DataFrame({'content':listContent,'sentiment': listSentiment})"
   ]
  },
  {
   "cell_type": "code",
   "execution_count": 318,
   "id": "33c7055f",
   "metadata": {},
   "outputs": [],
   "source": [
    "dataCSV = pd.concat([countryUY, countryPE])"
   ]
  },
  {
   "cell_type": "code",
   "execution_count": 319,
   "id": "082f2395",
   "metadata": {},
   "outputs": [
    {
     "data": {
      "text/html": [
       "<div>\n",
       "<style scoped>\n",
       "    .dataframe tbody tr th:only-of-type {\n",
       "        vertical-align: middle;\n",
       "    }\n",
       "\n",
       "    .dataframe tbody tr th {\n",
       "        vertical-align: top;\n",
       "    }\n",
       "\n",
       "    .dataframe thead th {\n",
       "        text-align: right;\n",
       "    }\n",
       "</style>\n",
       "<table border=\"1\" class=\"dataframe\">\n",
       "  <thead>\n",
       "    <tr style=\"text-align: right;\">\n",
       "      <th></th>\n",
       "      <th>content</th>\n",
       "      <th>sentiment</th>\n",
       "    </tr>\n",
       "  </thead>\n",
       "  <tbody>\n",
       "    <tr>\n",
       "      <th>0</th>\n",
       "      <td>Yo espero tranquila. Si gana de nvo alg partid...</td>\n",
       "      <td>NEU</td>\n",
       "    </tr>\n",
       "    <tr>\n",
       "      <th>1</th>\n",
       "      <td>Los fracasos de Michelle, Cristina y Dilma mue...</td>\n",
       "      <td>N</td>\n",
       "    </tr>\n",
       "    <tr>\n",
       "      <th>2</th>\n",
       "      <td>Debemos orar por los hnos venezolanos gente q ...</td>\n",
       "      <td>N</td>\n",
       "    </tr>\n",
       "    <tr>\n",
       "      <th>3</th>\n",
       "      <td>Me dijo que no le había gustado no se cuantas ...</td>\n",
       "      <td>NEU</td>\n",
       "    </tr>\n",
       "    <tr>\n",
       "      <th>4</th>\n",
       "      <td>@susanagkp jajaja yo fui el viernes ! precavid...</td>\n",
       "      <td>N</td>\n",
       "    </tr>\n",
       "    <tr>\n",
       "      <th>...</th>\n",
       "      <td>...</td>\n",
       "      <td>...</td>\n",
       "    </tr>\n",
       "    <tr>\n",
       "      <th>961</th>\n",
       "      <td>Terminarán odiándome, como casi todos los padr...</td>\n",
       "      <td>N</td>\n",
       "    </tr>\n",
       "    <tr>\n",
       "      <th>962</th>\n",
       "      <td>Necesito urgente entrar a la gimnasia y al gim...</td>\n",
       "      <td>NONE</td>\n",
       "    </tr>\n",
       "    <tr>\n",
       "      <th>963</th>\n",
       "      <td>Lo que me recuerda que @edvergaray me criticar...</td>\n",
       "      <td>NONE</td>\n",
       "    </tr>\n",
       "    <tr>\n",
       "      <th>964</th>\n",
       "      <td>Hasta lo peor de mi, quiere lo mejor para ti</td>\n",
       "      <td>NEU</td>\n",
       "    </tr>\n",
       "    <tr>\n",
       "      <th>965</th>\n",
       "      <td>Al final, siempre me quedo sola en casa</td>\n",
       "      <td>NONE</td>\n",
       "    </tr>\n",
       "  </tbody>\n",
       "</table>\n",
       "<p>1909 rows × 2 columns</p>\n",
       "</div>"
      ],
      "text/plain": [
       "                                               content sentiment\n",
       "0    Yo espero tranquila. Si gana de nvo alg partid...       NEU\n",
       "1    Los fracasos de Michelle, Cristina y Dilma mue...         N\n",
       "2    Debemos orar por los hnos venezolanos gente q ...         N\n",
       "3    Me dijo que no le había gustado no se cuantas ...       NEU\n",
       "4    @susanagkp jajaja yo fui el viernes ! precavid...         N\n",
       "..                                                 ...       ...\n",
       "961  Terminarán odiándome, como casi todos los padr...         N\n",
       "962  Necesito urgente entrar a la gimnasia y al gim...      NONE\n",
       "963  Lo que me recuerda que @edvergaray me criticar...      NONE\n",
       "964       Hasta lo peor de mi, quiere lo mejor para ti       NEU\n",
       "965            Al final, siempre me quedo sola en casa      NONE\n",
       "\n",
       "[1909 rows x 2 columns]"
      ]
     },
     "execution_count": 319,
     "metadata": {},
     "output_type": "execute_result"
    }
   ],
   "source": [
    "len\n",
    "(dataCSV)"
   ]
  },
  {
   "cell_type": "code",
   "execution_count": 320,
   "id": "2e620bf3",
   "metadata": {
    "scrolled": true
   },
   "outputs": [
    {
     "data": {
      "text/html": [
       "<div>\n",
       "<style scoped>\n",
       "    .dataframe tbody tr th:only-of-type {\n",
       "        vertical-align: middle;\n",
       "    }\n",
       "\n",
       "    .dataframe tbody tr th {\n",
       "        vertical-align: top;\n",
       "    }\n",
       "\n",
       "    .dataframe thead th {\n",
       "        text-align: right;\n",
       "    }\n",
       "</style>\n",
       "<table border=\"1\" class=\"dataframe\">\n",
       "  <thead>\n",
       "    <tr style=\"text-align: right;\">\n",
       "      <th></th>\n",
       "      <th>content</th>\n",
       "      <th>sentiment</th>\n",
       "    </tr>\n",
       "  </thead>\n",
       "  <tbody>\n",
       "    <tr>\n",
       "      <th>0</th>\n",
       "      <td>Sin ser fan de Juan Gabriel, siempre supe que ...</td>\n",
       "      <td>P</td>\n",
       "    </tr>\n",
       "  </tbody>\n",
       "</table>\n",
       "</div>"
      ],
      "text/plain": [
       "                                             content sentiment\n",
       "0  Sin ser fan de Juan Gabriel, siempre supe que ...         P"
      ]
     },
     "execution_count": 320,
     "metadata": {},
     "output_type": "execute_result"
    }
   ],
   "source": [
    "dataCSV.iloc[[943],:]"
   ]
  },
  {
   "cell_type": "code",
   "execution_count": 321,
   "id": "4a6fe67e",
   "metadata": {},
   "outputs": [
    {
     "data": {
      "text/plain": [
       "1909"
      ]
     },
     "execution_count": 321,
     "metadata": {},
     "output_type": "execute_result"
    }
   ],
   "source": [
    "len(dataCSV)"
   ]
  },
  {
   "cell_type": "code",
   "execution_count": 322,
   "id": "b58d8ce9",
   "metadata": {},
   "outputs": [],
   "source": [
    "# ----------------------COUNTRY MX--------------------"
   ]
  },
  {
   "cell_type": "code",
   "execution_count": 323,
   "id": "9993ab62",
   "metadata": {},
   "outputs": [
    {
     "name": "stdout",
     "output_type": "stream",
     "text": [
      "<xml.etree.ElementTree.ElementTree object at 0x7fcb2d272f20>\n"
     ]
    }
   ],
   "source": [
    "# Se guarda el xml en un document\n",
    "documentMX = parse('Data/TASS2019_country_MX_train.xml')\n",
    "print(documentMX)"
   ]
  },
  {
   "cell_type": "code",
   "execution_count": 324,
   "id": "71744ca3",
   "metadata": {},
   "outputs": [
    {
     "name": "stdout",
     "output_type": "stream",
     "text": [
      "['NEU', 'N', 'P', 'P', 'N', 'N', 'N', 'N', 'NEU', 'N', 'N', 'N', 'N', 'P', 'N', 'N', 'N', 'NEU', 'N', 'P', 'N', 'N', 'N', 'NEU', 'N', 'P', 'P', 'N', 'N', 'N', 'N', 'P', 'N', 'N', 'N', 'NEU', 'NEU', 'NONE', 'N', 'N', 'P', 'N', 'P', 'NEU', 'P', 'N', 'N', 'N', 'N', 'N', 'N', 'N', 'P', 'N', 'N', 'N', 'P', 'N', 'N', 'N', 'NONE', 'N', 'P', 'N', 'N', 'NEU', 'N', 'P', 'P', 'P', 'N', 'P', 'P', 'NONE', 'N', 'N', 'N', 'P', 'NONE', 'N', 'P', 'N', 'N', 'N', 'N', 'N', 'P', 'N', 'N', 'NEU', 'N', 'P', 'P', 'P', 'N', 'N', 'N', 'NEU', 'N', 'P', 'NONE', 'N', 'N', 'N', 'P', 'N', 'N', 'P', 'P', 'P', 'P', 'P', 'P', 'N', 'N', 'P', 'N', 'N', 'N', 'N', 'NONE', 'N', 'P', 'NEU', 'P', 'NONE', 'P', 'P', 'N', 'P', 'P', 'P', 'NONE', 'N', 'N', 'N', 'N', 'N', 'N', 'N', 'N', 'NONE', 'NONE', 'P', 'P', 'P', 'N', 'N', 'N', 'N', 'P', 'N', 'P', 'N', 'P', 'P', 'NONE', 'N', 'N', 'NEU', 'NEU', 'N', 'N', 'NEU', 'N', 'NEU', 'N', 'N', 'N', 'N', 'N', 'NEU', 'N', 'N', 'NONE', 'N', 'P', 'NEU', 'N', 'N', 'N', 'P', 'N', 'P', 'N', 'NONE', 'N', 'P', 'P', 'N', 'N', 'P', 'NEU', 'N', 'N', 'P', 'N', 'P', 'P', 'N', 'P', 'NEU', 'N', 'N', 'N', 'NONE', 'P', 'P', 'N', 'P', 'P', 'P', 'N', 'N', 'N', 'P', 'P', 'N', 'N', 'P', 'N', 'NEU', 'P', 'NEU', 'N', 'P', 'P', 'N', 'P', 'P', 'P', 'P', 'P', 'N', 'NEU', 'N', 'N', 'NONE', 'P', 'N', 'P', 'NONE', 'NONE', 'N', 'P', 'P', 'NEU', 'N', 'N', 'N', 'P', 'N', 'P', 'N', 'P', 'NONE', 'NONE', 'N', 'P', 'NONE', 'P', 'N', 'P', 'P', 'P', 'N', 'P', 'N', 'N', 'P', 'NEU', 'P', 'N', 'N', 'P', 'P', 'N', 'N', 'N', 'N', 'P', 'N', 'N', 'N', 'N', 'N', 'N', 'N', 'N', 'N', 'P', 'N', 'P', 'N', 'N', 'P', 'P', 'N', 'N', 'P', 'P', 'N', 'N', 'N', 'N', 'P', 'P', 'N', 'NONE', 'P', 'P', 'P', 'N', 'N', 'N', 'P', 'NONE', 'P', 'N', 'N', 'P', 'N', 'P', 'P', 'P', 'N', 'P', 'N', 'N', 'N', 'NEU', 'N', 'NEU', 'N', 'N', 'N', 'N', 'N', 'N', 'P', 'P', 'N', 'N', 'NEU', 'N', 'NEU', 'P', 'NONE', 'N', 'N', 'P', 'NONE', 'N', 'P', 'N', 'P', 'NEU', 'NONE', 'N', 'P', 'N', 'N', 'P', 'P', 'NEU', 'N', 'P', 'NEU', 'P', 'NONE', 'N', 'N', 'NEU', 'P', 'N', 'P', 'NONE', 'P', 'P', 'N', 'P', 'N', 'N', 'NONE', 'P', 'NONE', 'P', 'N', 'N', 'N', 'N', 'NONE', 'P', 'P', 'N', 'N', 'P', 'NONE', 'P', 'P', 'P', 'N', 'N', 'P', 'N', 'N', 'N', 'NEU', 'P', 'N', 'NONE', 'P', 'NEU', 'P', 'N', 'P', 'P', 'P', 'P', 'N', 'P', 'NONE', 'N', 'P', 'N', 'NONE', 'N', 'N', 'P', 'NONE', 'NONE', 'N', 'NONE', 'P', 'N', 'N', 'N', 'N', 'N', 'N', 'P', 'NEU', 'P', 'P', 'P', 'P', 'N', 'P', 'P', 'NEU', 'NONE', 'NEU', 'P', 'P', 'N', 'N', 'P', 'N', 'N', 'NEU', 'N', 'P', 'N', 'N', 'NONE', 'N', 'NEU', 'N', 'P', 'P', 'N', 'P', 'N', 'P', 'NONE', 'N', 'P', 'N', 'NEU', 'P', 'P', 'N', 'N', 'N', 'N', 'N', 'N', 'N', 'P', 'P', 'P', 'NEU', 'N', 'N', 'N', 'N', 'NEU', 'P', 'P', 'N', 'N', 'N', 'P', 'NEU', 'N', 'NONE', 'N', 'N', 'P', 'N', 'N', 'N', 'P', 'NONE', 'P', 'P', 'N', 'NEU', 'P', 'P', 'NEU', 'P', 'N', 'N', 'N', 'N', 'N', 'N', 'NONE', 'N', 'P', 'N', 'N', 'N', 'N', 'P', 'N', 'N', 'NONE', 'N', 'N', 'N', 'N', 'N', 'NEU', 'P', 'P', 'P', 'N', 'P', 'P', 'N', 'N', 'NONE', 'N', 'N', 'N', 'N', 'P', 'N', 'P', 'N', 'N', 'P', 'P', 'P', 'N', 'N', 'NONE', 'N', 'N', 'P', 'N', 'P', 'N', 'N', 'P', 'P', 'N', 'P', 'N', 'N', 'NEU', 'P', 'N', 'NEU', 'P', 'NONE', 'N', 'P', 'P', 'N', 'P', 'P', 'N', 'P', 'P', 'N', 'NEU', 'P', 'N', 'N', 'N', 'NEU', 'NONE', 'NONE', 'P', 'P', 'P', 'P', 'P', 'NONE', 'NONE', 'P', 'N', 'NONE', 'P', 'P', 'N', 'P', 'N', 'N', 'N', 'NEU', 'P', 'P', 'N', 'N', 'N', 'N', 'NONE', 'N', 'N', 'N', 'N', 'N', 'P', 'P', 'NEU', 'N', 'N', 'NONE', 'P', 'N', 'N', 'N', 'NEU', 'P', 'N', 'N', 'N', 'P', 'N', 'N', 'N', 'P', 'P', 'N', 'P', 'NEU', 'P', 'N', 'NEU', 'P', 'N', 'N', 'NEU', 'P', 'P', 'P', 'N', 'N', 'NONE', 'P', 'N', 'N', 'NONE', 'NONE', 'P', 'N', 'NONE', 'P', 'N', 'P', 'NEU', 'N', 'N', 'N', 'P', 'P', 'N', 'N', 'P', 'P', 'P', 'P', 'N', 'NEU', 'N', 'N', 'P', 'NONE', 'P', 'NEU', 'N', 'N', 'P', 'N', 'N', 'P', 'P', 'NONE', 'N', 'NONE', 'N', 'P', 'N', 'NEU', 'N', 'NONE', 'N', 'N', 'N', 'P', 'N', 'P', 'N', 'N', 'N', 'N', 'P', 'P', 'N', 'P', 'P', 'P', 'P', 'N', 'P', 'P', 'NONE', 'P', 'N', 'NONE', 'P', 'NONE', 'NONE', 'N', 'N', 'P', 'N', 'N', 'N', 'N', 'N', 'N', 'N', 'NONE', 'N', 'N', 'P', 'N', 'NONE', 'N', 'P', 'N', 'N', 'N', 'N', 'N', 'P', 'N', 'N', 'NEU', 'NONE', 'NEU', 'NEU', 'N', 'NEU', 'P', 'NONE', 'N', 'NONE', 'N', 'N', 'N', 'P', 'N', 'NONE', 'N', 'P', 'P', 'P', 'P', 'N', 'P', 'N', 'N', 'NONE', 'P', 'N', 'N', 'NEU', 'NEU', 'N', 'NONE', 'N', 'N', 'N', 'N', 'N', 'N', 'N', 'N', 'P', 'N', 'N', 'NONE', 'N', 'N', 'P', 'N', 'N', 'N', 'N', 'NONE', 'P', 'N', 'N', 'N', 'NEU', 'P', 'N', 'N', 'N', 'P', 'P', 'N', 'N', 'P', 'N', 'N', 'N', 'N', 'P', 'N', 'N', 'P', 'N', 'NEU', 'N', 'N', 'P', 'N', 'N', 'N', 'NONE', 'N', 'P', 'NONE', 'N', 'P', 'N', 'N', 'N', 'P', 'NONE', 'N', 'NEU', 'N', 'N', 'P', 'NONE', 'N', 'NONE', 'N', 'P', 'N', 'P', 'NEU', 'N', 'N', 'NEU', 'NEU', 'N', 'N', 'NONE', 'P', 'N', 'N', 'P', 'N', 'P', 'N', 'N', 'N', 'NONE', 'N', 'NONE', 'N', 'N', 'N', 'N', 'N', 'N', 'NONE', 'N', 'P', 'P', 'N', 'N', 'N', 'NEU', 'N', 'N', 'N', 'P', 'N', 'N', 'N', 'N', 'NONE', 'NEU', 'N', 'P', 'NONE', 'N', 'P', 'P', 'NONE', 'P', 'N', 'P', 'N', 'N', 'N', 'NEU', 'N', 'P', 'NEU', 'N', 'N', 'N', 'P', 'N', 'N', 'P', 'N', 'NONE', 'P', 'NONE', 'P', 'N', 'NONE', 'P', 'P', 'N', 'P', 'N', 'NONE', 'N', 'N', 'P', 'N', 'N', 'P', 'P', 'N', 'P', 'N', 'P', 'P', 'P', 'P', 'NEU', 'P', 'N', 'P', 'P', 'N', 'N', 'N', 'N', 'N', 'NEU', 'NONE', 'NEU', 'N', 'N']\n"
     ]
    }
   ],
   "source": [
    "# Se presenta la lista de sentimientos y se pasa todos los mensajes\n",
    "# a una lista con el objetivo de pasarlos a un data frame.\n",
    "listContent = []\n",
    "listSentiment=[]\n",
    "for item in documentMX.iterfind('tweet'):\n",
    "    listContent.append(item.findtext('content'))\n",
    "    listSentiment.append(item.find('sentiment').find(\"polarity\").findtext('value'))\n",
    "print(listSentiment)"
   ]
  },
  {
   "cell_type": "code",
   "execution_count": 325,
   "id": "d60279e5",
   "metadata": {},
   "outputs": [
    {
     "name": "stdout",
     "output_type": "stream",
     "text": [
      "989\n",
      "989\n"
     ]
    }
   ],
   "source": [
    "print(len(listSentiment))\n",
    "print(len(listSentiment))"
   ]
  },
  {
   "cell_type": "code",
   "execution_count": 326,
   "id": "017d87b3",
   "metadata": {},
   "outputs": [],
   "source": [
    "countryMX = pd.DataFrame({'content':listContent,'sentiment': listSentiment})"
   ]
  },
  {
   "cell_type": "code",
   "execution_count": 327,
   "id": "c53c55ad",
   "metadata": {},
   "outputs": [
    {
     "data": {
      "text/html": [
       "<div>\n",
       "<style scoped>\n",
       "    .dataframe tbody tr th:only-of-type {\n",
       "        vertical-align: middle;\n",
       "    }\n",
       "\n",
       "    .dataframe tbody tr th {\n",
       "        vertical-align: top;\n",
       "    }\n",
       "\n",
       "    .dataframe thead th {\n",
       "        text-align: right;\n",
       "    }\n",
       "</style>\n",
       "<table border=\"1\" class=\"dataframe\">\n",
       "  <thead>\n",
       "    <tr style=\"text-align: right;\">\n",
       "      <th></th>\n",
       "      <th>content</th>\n",
       "      <th>sentiment</th>\n",
       "    </tr>\n",
       "  </thead>\n",
       "  <tbody>\n",
       "    <tr>\n",
       "      <th>0</th>\n",
       "      <td>— ¿Nivel de inglés? — Alto. — Traduzca juguete...</td>\n",
       "      <td>NEU</td>\n",
       "    </tr>\n",
       "    <tr>\n",
       "      <th>1</th>\n",
       "      <td>Si soy de área 4 y con suerte pase mate IV y m...</td>\n",
       "      <td>N</td>\n",
       "    </tr>\n",
       "    <tr>\n",
       "      <th>2</th>\n",
       "      <td>Sabían que su after fav Teatro G. fue construi...</td>\n",
       "      <td>P</td>\n",
       "    </tr>\n",
       "    <tr>\n",
       "      <th>3</th>\n",
       "      <td>Y hoy por primera vez me salí con el permiso d...</td>\n",
       "      <td>P</td>\n",
       "    </tr>\n",
       "    <tr>\n",
       "      <th>4</th>\n",
       "      <td>¿Para qué hacen coraje con Ambriz?, al final n...</td>\n",
       "      <td>N</td>\n",
       "    </tr>\n",
       "    <tr>\n",
       "      <th>...</th>\n",
       "      <td>...</td>\n",
       "      <td>...</td>\n",
       "    </tr>\n",
       "    <tr>\n",
       "      <th>984</th>\n",
       "      <td>Si quieren que aprenda algo de eso dejen esa m...</td>\n",
       "      <td>NEU</td>\n",
       "    </tr>\n",
       "    <tr>\n",
       "      <th>985</th>\n",
       "      <td>Últimos momentos en medicina familiar y de gua...</td>\n",
       "      <td>NONE</td>\n",
       "    </tr>\n",
       "    <tr>\n",
       "      <th>986</th>\n",
       "      <td>@natyamezcua hay pues hay que ver que hacemos ...</td>\n",
       "      <td>NEU</td>\n",
       "    </tr>\n",
       "    <tr>\n",
       "      <th>987</th>\n",
       "      <td>Me acabo de tragar un pastel en mood celina</td>\n",
       "      <td>N</td>\n",
       "    </tr>\n",
       "    <tr>\n",
       "      <th>988</th>\n",
       "      <td>Pobresita jajajaja, no no tendras su amistad d...</td>\n",
       "      <td>N</td>\n",
       "    </tr>\n",
       "  </tbody>\n",
       "</table>\n",
       "<p>989 rows × 2 columns</p>\n",
       "</div>"
      ],
      "text/plain": [
       "                                               content sentiment\n",
       "0    — ¿Nivel de inglés? — Alto. — Traduzca juguete...       NEU\n",
       "1    Si soy de área 4 y con suerte pase mate IV y m...         N\n",
       "2    Sabían que su after fav Teatro G. fue construi...         P\n",
       "3    Y hoy por primera vez me salí con el permiso d...         P\n",
       "4    ¿Para qué hacen coraje con Ambriz?, al final n...         N\n",
       "..                                                 ...       ...\n",
       "984  Si quieren que aprenda algo de eso dejen esa m...       NEU\n",
       "985  Últimos momentos en medicina familiar y de gua...      NONE\n",
       "986  @natyamezcua hay pues hay que ver que hacemos ...       NEU\n",
       "987        Me acabo de tragar un pastel en mood celina         N\n",
       "988  Pobresita jajajaja, no no tendras su amistad d...         N\n",
       "\n",
       "[989 rows x 2 columns]"
      ]
     },
     "execution_count": 327,
     "metadata": {},
     "output_type": "execute_result"
    }
   ],
   "source": [
    "countryMX"
   ]
  },
  {
   "cell_type": "code",
   "execution_count": 328,
   "id": "d42cea12",
   "metadata": {},
   "outputs": [],
   "source": [
    "dataCSV = pd.concat([dataCSV, countryMX])"
   ]
  },
  {
   "cell_type": "code",
   "execution_count": 329,
   "id": "06fe9696",
   "metadata": {},
   "outputs": [],
   "source": [
    "# ----------------------COUNTRY CR--------------------"
   ]
  },
  {
   "cell_type": "code",
   "execution_count": 330,
   "id": "b205a9a3",
   "metadata": {},
   "outputs": [
    {
     "name": "stdout",
     "output_type": "stream",
     "text": [
      "<xml.etree.ElementTree.ElementTree object at 0x7fcb2d270a30>\n"
     ]
    }
   ],
   "source": [
    "# Se guarda el xml en un document\n",
    "documentCR = parse('Data/TASS2019_country_CR_train.xml')\n",
    "print(documentCR)"
   ]
  },
  {
   "cell_type": "code",
   "execution_count": 331,
   "id": "59b45e9a",
   "metadata": {},
   "outputs": [
    {
     "name": "stdout",
     "output_type": "stream",
     "text": [
      "['NONE', 'P', 'N', 'N', 'N', 'NEU', 'P', 'NONE', 'P', 'P', 'N', 'NEU', 'N', 'NONE', 'P', 'N', 'NONE', 'N', 'P', 'NONE', 'NONE', 'NONE', 'N', 'P', 'P', 'N', 'NONE', 'P', 'NEU', 'N', 'N', 'NEU', 'N', 'NEU', 'P', 'NONE', 'P', 'N', 'N', 'P', 'N', 'N', 'P', 'NONE', 'P', 'P', 'P', 'P', 'P', 'N', 'P', 'N', 'P', 'N', 'P', 'P', 'P', 'P', 'NEU', 'N', 'N', 'N', 'N', 'N', 'P', 'NONE', 'NONE', 'P', 'N', 'NEU', 'N', 'NEU', 'N', 'N', 'N', 'NONE', 'N', 'NEU', 'N', 'P', 'NEU', 'P', 'NONE', 'NEU', 'NONE', 'P', 'P', 'N', 'N', 'N', 'NEU', 'P', 'N', 'P', 'N', 'N', 'NEU', 'NEU', 'P', 'N', 'N', 'P', 'P', 'NEU', 'NONE', 'P', 'NONE', 'N', 'P', 'N', 'NEU', 'N', 'N', 'NONE', 'N', 'NONE', 'N', 'NEU', 'N', 'NEU', 'P', 'N', 'NEU', 'N', 'N', 'NEU', 'NONE', 'NONE', 'N', 'P', 'NONE', 'NONE', 'NEU', 'N', 'N', 'NONE', 'N', 'P', 'N', 'P', 'N', 'P', 'P', 'P', 'NEU', 'N', 'N', 'N', 'P', 'P', 'N', 'N', 'N', 'N', 'NONE', 'NEU', 'NEU', 'NONE', 'N', 'NEU', 'NONE', 'P', 'NONE', 'N', 'P', 'NONE', 'NONE', 'P', 'NEU', 'N', 'NEU', 'N', 'N', 'N', 'P', 'N', 'N', 'N', 'NONE', 'P', 'P', 'N', 'N', 'P', 'NONE', 'P', 'N', 'N', 'N', 'N', 'N', 'N', 'P', 'NEU', 'P', 'P', 'P', 'N', 'P', 'N', 'N', 'N', 'N', 'N', 'NEU', 'N', 'N', 'N', 'P', 'NONE', 'NONE', 'NONE', 'N', 'NONE', 'N', 'NONE', 'NONE', 'P', 'N', 'NEU', 'NEU', 'P', 'NONE', 'N', 'P', 'N', 'P', 'N', 'P', 'N', 'NEU', 'P', 'P', 'N', 'NEU', 'N', 'N', 'NEU', 'NEU', 'N', 'N', 'N', 'P', 'N', 'P', 'NONE', 'N', 'P', 'N', 'NONE', 'N', 'NEU', 'N', 'NONE', 'NONE', 'P', 'NONE', 'N', 'NONE', 'N', 'P', 'N', 'N', 'NEU', 'NEU', 'NEU', 'P', 'P', 'N', 'NEU', 'N', 'P', 'N', 'NEU', 'P', 'NONE', 'P', 'NONE', 'P', 'N', 'NONE', 'N', 'P', 'NONE', 'NONE', 'N', 'N', 'N', 'NONE', 'N', 'NEU', 'P', 'P', 'N', 'N', 'NEU', 'NEU', 'NONE', 'N', 'P', 'N', 'NEU', 'N', 'N', 'N', 'NONE', 'NEU', 'N', 'P', 'P', 'N', 'P', 'N', 'NONE', 'N', 'N', 'N', 'NONE', 'P', 'P', 'NEU', 'P', 'P', 'N', 'P', 'P', 'NEU', 'NONE', 'NEU', 'N', 'P', 'N', 'NEU', 'P', 'NONE', 'P', 'P', 'P', 'NONE', 'P', 'N', 'NONE', 'P', 'N', 'N', 'P', 'N', 'N', 'N', 'P', 'NEU', 'P', 'NONE', 'N', 'P', 'NONE', 'NEU', 'P', 'N', 'P', 'NONE', 'N', 'N', 'NEU', 'N', 'N', 'N', 'NEU', 'N', 'P', 'NONE', 'N', 'N', 'NEU', 'NONE', 'NONE', 'N', 'N', 'N', 'P', 'P', 'NONE', 'P', 'P', 'NEU', 'P', 'NONE', 'P', 'P', 'P', 'N', 'N', 'N', 'NONE', 'P', 'P', 'P', 'N', 'NONE', 'N', 'NEU', 'NONE', 'N', 'P', 'N', 'P', 'N', 'NONE', 'N', 'NONE', 'P', 'NONE', 'P', 'P', 'N', 'N', 'NONE', 'P', 'NEU', 'N', 'N', 'NEU', 'NONE', 'P', 'N', 'P', 'NEU', 'NEU', 'N', 'P', 'N', 'N', 'P', 'N', 'N', 'N', 'NONE', 'NONE', 'N', 'N', 'P', 'N', 'N', 'N', 'N', 'N', 'P', 'P', 'N', 'N', 'P', 'N', 'N', 'P', 'N', 'P', 'NEU', 'P', 'N', 'N', 'NEU', 'NONE', 'NEU', 'N', 'NONE', 'P', 'NONE', 'P', 'NEU', 'NONE', 'N', 'N', 'NONE', 'P', 'N', 'N', 'NONE', 'P', 'N', 'NEU', 'P', 'N', 'N', 'NONE', 'N', 'N', 'P', 'P', 'NONE', 'N', 'P', 'P', 'P', 'NONE', 'N', 'NONE', 'N', 'NEU', 'P', 'NEU', 'N', 'N', 'NONE', 'N', 'N', 'NEU', 'P', 'P', 'P', 'N', 'N', 'P', 'N', 'N', 'P', 'NONE', 'N', 'N', 'P', 'N', 'N', 'NEU', 'P', 'NONE', 'P', 'P', 'N', 'N', 'P', 'N', 'N', 'N', 'N', 'P', 'N', 'NONE', 'NONE', 'NEU', 'NONE', 'P', 'N', 'P', 'N', 'N', 'P', 'N', 'NEU', 'N', 'P', 'N', 'P', 'NONE', 'NEU', 'NONE', 'NONE', 'NONE', 'N', 'P', 'N', 'NONE', 'P', 'P', 'NONE', 'NEU', 'NONE', 'P', 'P', 'NONE', 'NONE', 'N', 'N', 'N', 'NONE', 'NONE', 'NONE', 'NONE', 'N', 'NEU', 'NONE', 'N', 'N', 'NONE', 'P', 'N', 'P', 'N', 'NONE', 'NEU', 'P', 'P', 'NONE', 'NEU', 'P', 'NONE', 'N', 'N', 'N', 'NEU', 'P', 'NONE', 'N', 'NONE', 'NEU', 'N', 'P', 'NONE', 'N', 'N', 'N', 'N', 'NONE', 'N', 'N', 'N', 'NONE', 'N', 'N', 'N', 'P', 'N', 'N', 'N', 'P', 'N', 'N', 'N', 'N', 'N', 'NONE', 'NONE', 'N', 'N', 'NONE', 'NONE', 'P', 'N', 'P', 'NONE', 'N', 'P', 'N', 'NONE', 'N', 'NONE', 'N', 'N', 'NONE', 'P', 'N', 'NEU', 'NONE', 'P', 'N', 'NONE', 'N', 'NONE', 'N', 'P', 'P', 'N', 'N', 'NONE', 'NONE', 'NONE', 'P', 'NONE', 'N', 'NONE', 'P', 'N', 'N', 'NONE', 'P', 'P', 'N', 'N', 'N', 'N', 'NONE', 'N', 'N', 'P', 'P', 'NEU', 'NONE', 'NEU', 'NONE', 'P', 'P', 'N', 'P', 'N', 'N', 'NONE', 'NEU', 'NONE', 'NONE', 'NONE', 'N', 'NEU', 'P', 'NONE', 'P', 'N', 'N', 'N', 'P', 'P', 'N', 'N', 'P', 'P', 'NEU', 'N', 'N', 'N', 'P', 'P', 'N', 'P', 'NEU', 'NONE', 'P', 'N', 'NONE', 'NONE', 'P', 'N', 'NONE', 'N', 'P', 'P', 'P', 'N', 'P', 'P', 'P', 'P', 'P', 'P', 'NEU', 'N', 'N', 'N', 'P', 'NONE', 'N', 'NONE', 'P', 'P', 'N', 'P', 'N', 'N', 'NONE', 'NONE', 'NEU', 'NONE', 'NEU', 'P', 'N', 'NONE', 'N', 'NONE', 'NEU', 'P', 'P', 'P', 'NONE', 'NONE', 'P', 'P', 'NEU', 'N', 'N', 'P', 'NONE']\n"
     ]
    }
   ],
   "source": [
    "# Se presenta la lista de sentimientos y se pasa todos los mensajes\n",
    "# a una lista con el objetivo de pasarlos a un data frame.\n",
    "listContent = []\n",
    "listSentiment= []\n",
    "for item in documentCR.iterfind('tweet'):\n",
    "    listContent.append(item.findtext('content'))\n",
    "    listSentiment.append(item.find('sentiment').find(\"polarity\").findtext('value'))\n",
    "print(listSentiment)"
   ]
  },
  {
   "cell_type": "code",
   "execution_count": 332,
   "id": "dbcd6138",
   "metadata": {},
   "outputs": [
    {
     "name": "stdout",
     "output_type": "stream",
     "text": [
      "777\n",
      "777\n"
     ]
    }
   ],
   "source": [
    "print(len(listSentiment))\n",
    "print(len(listSentiment))"
   ]
  },
  {
   "cell_type": "code",
   "execution_count": 333,
   "id": "0d861c53",
   "metadata": {},
   "outputs": [],
   "source": [
    "countryCR = pd.DataFrame({'content':listContent,'sentiment': listSentiment})"
   ]
  },
  {
   "cell_type": "code",
   "execution_count": 334,
   "id": "5e5be0e9",
   "metadata": {},
   "outputs": [
    {
     "data": {
      "text/html": [
       "<div>\n",
       "<style scoped>\n",
       "    .dataframe tbody tr th:only-of-type {\n",
       "        vertical-align: middle;\n",
       "    }\n",
       "\n",
       "    .dataframe tbody tr th {\n",
       "        vertical-align: top;\n",
       "    }\n",
       "\n",
       "    .dataframe thead th {\n",
       "        text-align: right;\n",
       "    }\n",
       "</style>\n",
       "<table border=\"1\" class=\"dataframe\">\n",
       "  <thead>\n",
       "    <tr style=\"text-align: right;\">\n",
       "      <th></th>\n",
       "      <th>content</th>\n",
       "      <th>sentiment</th>\n",
       "    </tr>\n",
       "  </thead>\n",
       "  <tbody>\n",
       "    <tr>\n",
       "      <th>0</th>\n",
       "      <td>@NoilyMV yo soy totalmente puntual</td>\n",
       "      <td>NONE</td>\n",
       "    </tr>\n",
       "    <tr>\n",
       "      <th>1</th>\n",
       "      <td>@SandraCauffman Hola Sandrita. No le habia des...</td>\n",
       "      <td>P</td>\n",
       "    </tr>\n",
       "    <tr>\n",
       "      <th>2</th>\n",
       "      <td>Si andan haciendo eso mejor se quedaran callad...</td>\n",
       "      <td>N</td>\n",
       "    </tr>\n",
       "    <tr>\n",
       "      <th>3</th>\n",
       "      <td>Que pereza quiero choco banano</td>\n",
       "      <td>N</td>\n",
       "    </tr>\n",
       "    <tr>\n",
       "      <th>4</th>\n",
       "      <td>@robertobrenes Bueno, no es tanto lo mayor com...</td>\n",
       "      <td>N</td>\n",
       "    </tr>\n",
       "    <tr>\n",
       "      <th>...</th>\n",
       "      <td>...</td>\n",
       "      <td>...</td>\n",
       "    </tr>\n",
       "    <tr>\n",
       "      <th>772</th>\n",
       "      <td>Quiero como tener carro para hacer todo rápido</td>\n",
       "      <td>NEU</td>\n",
       "    </tr>\n",
       "    <tr>\n",
       "      <th>773</th>\n",
       "      <td>Tristeza más hp me da siempre en año nuevo</td>\n",
       "      <td>N</td>\n",
       "    </tr>\n",
       "    <tr>\n",
       "      <th>774</th>\n",
       "      <td>no encuentro ninguna buena serie en NF.</td>\n",
       "      <td>N</td>\n",
       "    </tr>\n",
       "    <tr>\n",
       "      <th>775</th>\n",
       "      <td>@Alphasniper97 Alpha suerte y ten un feliz año...</td>\n",
       "      <td>P</td>\n",
       "    </tr>\n",
       "    <tr>\n",
       "      <th>776</th>\n",
       "      <td>@sancarlena77 @miguelpintor05 @demalaspalabras...</td>\n",
       "      <td>NONE</td>\n",
       "    </tr>\n",
       "  </tbody>\n",
       "</table>\n",
       "<p>777 rows × 2 columns</p>\n",
       "</div>"
      ],
      "text/plain": [
       "                                               content sentiment\n",
       "0                   @NoilyMV yo soy totalmente puntual      NONE\n",
       "1    @SandraCauffman Hola Sandrita. No le habia des...         P\n",
       "2    Si andan haciendo eso mejor se quedaran callad...         N\n",
       "3                       Que pereza quiero choco banano         N\n",
       "4    @robertobrenes Bueno, no es tanto lo mayor com...         N\n",
       "..                                                 ...       ...\n",
       "772     Quiero como tener carro para hacer todo rápido       NEU\n",
       "773         Tristeza más hp me da siempre en año nuevo         N\n",
       "774            no encuentro ninguna buena serie en NF.         N\n",
       "775  @Alphasniper97 Alpha suerte y ten un feliz año...         P\n",
       "776  @sancarlena77 @miguelpintor05 @demalaspalabras...      NONE\n",
       "\n",
       "[777 rows x 2 columns]"
      ]
     },
     "execution_count": 334,
     "metadata": {},
     "output_type": "execute_result"
    }
   ],
   "source": [
    "countryCR"
   ]
  },
  {
   "cell_type": "code",
   "execution_count": 335,
   "id": "225c5b1d",
   "metadata": {},
   "outputs": [],
   "source": [
    "dataCSV = pd.concat([dataCSV, countryCR])"
   ]
  },
  {
   "cell_type": "code",
   "execution_count": 336,
   "id": "a996aa32",
   "metadata": {},
   "outputs": [
    {
     "data": {
      "text/plain": [
       "3675"
      ]
     },
     "execution_count": 336,
     "metadata": {},
     "output_type": "execute_result"
    }
   ],
   "source": [
    "len(dataCSV)"
   ]
  },
  {
   "cell_type": "code",
   "execution_count": 337,
   "id": "5232dcd5",
   "metadata": {},
   "outputs": [],
   "source": [
    "# Se lo transforma el dataFrame a csv\n",
    "dataCSV.to_csv(\"Data/Countrys.csv\")"
   ]
  }
 ],
 "metadata": {
  "kernelspec": {
   "display_name": "Python 3 (ipykernel)",
   "language": "python",
   "name": "python3"
  },
  "language_info": {
   "codemirror_mode": {
    "name": "ipython",
    "version": 3
   },
   "file_extension": ".py",
   "mimetype": "text/x-python",
   "name": "python",
   "nbconvert_exporter": "python",
   "pygments_lexer": "ipython3",
   "version": "3.10.4"
  }
 },
 "nbformat": 4,
 "nbformat_minor": 5
}

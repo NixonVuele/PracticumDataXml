{
 "cells": [
  {
   "cell_type": "code",
   "execution_count": 1,
   "id": "7e05d335",
   "metadata": {},
   "outputs": [
    {
     "data": {
      "text/html": [
       "<div>\n",
       "<style scoped>\n",
       "    .dataframe tbody tr th:only-of-type {\n",
       "        vertical-align: middle;\n",
       "    }\n",
       "\n",
       "    .dataframe tbody tr th {\n",
       "        vertical-align: top;\n",
       "    }\n",
       "\n",
       "    .dataframe thead th {\n",
       "        text-align: right;\n",
       "    }\n",
       "</style>\n",
       "<table border=\"1\" class=\"dataframe\">\n",
       "  <thead>\n",
       "    <tr style=\"text-align: right;\">\n",
       "      <th></th>\n",
       "      <th>Unnamed: 0</th>\n",
       "      <th>content</th>\n",
       "      <th>sentiment</th>\n",
       "    </tr>\n",
       "  </thead>\n",
       "  <tbody>\n",
       "    <tr>\n",
       "      <th>0</th>\n",
       "      <td>0</td>\n",
       "      <td>Yo espero tranquila. Si gana de nvo alg partid...</td>\n",
       "      <td>NEU</td>\n",
       "    </tr>\n",
       "    <tr>\n",
       "      <th>1</th>\n",
       "      <td>1</td>\n",
       "      <td>Los fracasos de Michelle, Cristina y Dilma mue...</td>\n",
       "      <td>N</td>\n",
       "    </tr>\n",
       "    <tr>\n",
       "      <th>2</th>\n",
       "      <td>2</td>\n",
       "      <td>Debemos orar por los hnos venezolanos gente q ...</td>\n",
       "      <td>N</td>\n",
       "    </tr>\n",
       "    <tr>\n",
       "      <th>3</th>\n",
       "      <td>3</td>\n",
       "      <td>Me dijo que no le había gustado no se cuantas ...</td>\n",
       "      <td>NEU</td>\n",
       "    </tr>\n",
       "    <tr>\n",
       "      <th>4</th>\n",
       "      <td>4</td>\n",
       "      <td>@susanagkp jajaja yo fui el viernes ! precavid...</td>\n",
       "      <td>N</td>\n",
       "    </tr>\n",
       "  </tbody>\n",
       "</table>\n",
       "</div>"
      ],
      "text/plain": [
       "   Unnamed: 0                                            content sentiment\n",
       "0           0  Yo espero tranquila. Si gana de nvo alg partid...       NEU\n",
       "1           1  Los fracasos de Michelle, Cristina y Dilma mue...         N\n",
       "2           2  Debemos orar por los hnos venezolanos gente q ...         N\n",
       "3           3  Me dijo que no le había gustado no se cuantas ...       NEU\n",
       "4           4  @susanagkp jajaja yo fui el viernes ! precavid...         N"
      ]
     },
     "execution_count": 1,
     "metadata": {},
     "output_type": "execute_result"
    }
   ],
   "source": [
    "import numpy as np\n",
    "from sklearn.manifold import TSNE\n",
    "\n",
    " \n",
    "import pandas as pd\n",
    "country = pd.read_csv('Data/Countrys.csv')\n",
    "country.head()"
   ]
  },
  {
   "cell_type": "code",
   "execution_count": 2,
   "id": "3cd8eb0e",
   "metadata": {},
   "outputs": [],
   "source": [
    "from sklearn.feature_extraction.text import TfidfVectorizer\n"
   ]
  },
  {
   "cell_type": "code",
   "execution_count": 6,
   "id": "9b554889",
   "metadata": {},
   "outputs": [],
   "source": [
    "# Creamos al vector caracterizado\n",
    "vectorizer = TfidfVectorizer(min_df = 5,\n",
    "                             max_df = 0.8,\n",
    "                             sublinear_tf = True,\n",
    "                             use_idf = True)\n",
    "train_vectors = vectorizer.fit_transform(country['content'])\n",
    "test_vectors = vectorizer.transform(country['content'])"
   ]
  },
  {
   "cell_type": "code",
   "execution_count": 8,
   "id": "e5bffa8e",
   "metadata": {},
   "outputs": [],
   "source": [
    "import time\n",
    "from sklearn import svm\n",
    "from sklearn.metrics import classification_report\n",
    "\n",
    "# Realizar clasificación con SVM\n",
    "# kernel=linear\n",
    "classifier_linear = svm.SVC(kernel='linear')\n",
    "t0 = time.time()\n",
    "classifier_linear.fit(train_vectors, country['sentiment'])\n",
    "t1 = time.time()\n",
    "prediction_linear = classifier_linear.predict(test_vectors)\n",
    "t2 = time.time()\n",
    "time_linear_train = t1-t0\n",
    "time_linear_predict = t2-t1"
   ]
  },
  {
   "cell_type": "code",
   "execution_count": 9,
   "id": "558ec38d",
   "metadata": {},
   "outputs": [
    {
     "name": "stdout",
     "output_type": "stream",
     "text": [
      "Training time: 1.641186s; Prediction time: 0.997795s\n"
     ]
    }
   ],
   "source": [
    "# Tiempo de entrenamiento y prediccion:\n",
    "print(\"Training time: %fs; Prediction time: %fs\" % (time_linear_train, time_linear_predict))"
   ]
  },
  {
   "cell_type": "code",
   "execution_count": 10,
   "id": "4897f8f6",
   "metadata": {},
   "outputs": [
    {
     "name": "stdout",
     "output_type": "stream",
     "text": [
      "positive:  {'precision': 0.7481617647058824, 'recall': 0.7834456207892204, 'f1-score': 0.765397273154678, 'support': 1039}\n",
      "negative:  {'precision': 0.6488395560040363, 'recall': 0.9120567375886525, 'f1-score': 0.758254716981132, 'support': 1410}\n",
      "neutro:  {'precision': 0.7888198757763976, 'recall': 0.2387218045112782, 'f1-score': 0.3665223665223665, 'support': 532}\n"
     ]
    }
   ],
   "source": [
    "report = classification_report(country['sentiment'], prediction_linear, output_dict=True)\n",
    "print('positive: ', report['P'])\n",
    "print('negative: ', report['N'])\n",
    "print('neutro: ', report['NEU'])"
   ]
  },
  {
   "cell_type": "code",
   "execution_count": 15,
   "id": "11d36dfd",
   "metadata": {},
   "outputs": [
    {
     "name": "stdout",
     "output_type": "stream",
     "text": [
      "['N']\n"
     ]
    }
   ],
   "source": [
    "review = \"No comistes toda la sopa\"\n",
    "review_vector = vectorizer.transform([review]) # vectorizing\n",
    "print(classifier_linear.predict(review_vector))"
   ]
  },
  {
   "cell_type": "code",
   "execution_count": 13,
   "id": "fc94fdd6",
   "metadata": {},
   "outputs": [],
   "source": [
    "import pickle"
   ]
  },
  {
   "cell_type": "code",
   "execution_count": 14,
   "id": "2b744262",
   "metadata": {},
   "outputs": [],
   "source": [
    "# pickling the vectorizer\n",
    "pickle.dump(vectorizer, open('Modelos/vectorizerSVM.sav', 'wb'))\n",
    "\n",
    "# pickling the model\n",
    "pickle.dump(classifier_linear, open('Modelos/classifierSVM.sav', 'wb'))"
   ]
  },
  {
   "cell_type": "code",
   "execution_count": 3,
   "id": "cb811c51",
   "metadata": {},
   "outputs": [],
   "source": [
    "import pickle\n",
    "vectorizerNB = pickle.load(open('Modelos/vectorizerSVM.sav', 'rb'))\n",
    "classifierNB = pickle.load(open('Modelos/classifierSVM.sav', 'rb'))"
   ]
  },
  {
   "cell_type": "code",
   "execution_count": 8,
   "id": "3ef98e25",
   "metadata": {},
   "outputs": [],
   "source": [
    "text_vectorNB = vectorizerNB.transform([\"Bien\"])\n",
    "resultNB = classifierNB.predict(text_vectorNB)"
   ]
  },
  {
   "cell_type": "code",
   "execution_count": 9,
   "id": "d8d99500",
   "metadata": {},
   "outputs": [
    {
     "name": "stdout",
     "output_type": "stream",
     "text": [
      "P\n"
     ]
    }
   ],
   "source": [
    "print(resultNB[0])"
   ]
  },
  {
   "cell_type": "code",
   "execution_count": null,
   "id": "4c47d035",
   "metadata": {},
   "outputs": [],
   "source": []
  }
 ],
 "metadata": {
  "kernelspec": {
   "display_name": "Python 3 (ipykernel)",
   "language": "python",
   "name": "python3"
  },
  "language_info": {
   "codemirror_mode": {
    "name": "ipython",
    "version": 3
   },
   "file_extension": ".py",
   "mimetype": "text/x-python",
   "name": "python",
   "nbconvert_exporter": "python",
   "pygments_lexer": "ipython3",
   "version": "3.10.4"
  }
 },
 "nbformat": 4,
 "nbformat_minor": 5
}

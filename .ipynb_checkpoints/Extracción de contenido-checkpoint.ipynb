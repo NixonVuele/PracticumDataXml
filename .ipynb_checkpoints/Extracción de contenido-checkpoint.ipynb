{
 "cells": [
  {
   "cell_type": "code",
   "execution_count": 62,
   "id": "07d5cae9",
   "metadata": {},
   "outputs": [],
   "source": [
    "# Se importa las librerias que se van a usar\n",
    "import pandas as pd \n",
    "from xml.dom import minidom\n",
    "from xml.etree.ElementTree import parse"
   ]
  },
  {
   "cell_type": "code",
   "execution_count": 63,
   "id": "13061884",
   "metadata": {},
   "outputs": [
    {
     "name": "stdout",
     "output_type": "stream",
     "text": [
      "<xml.etree.ElementTree.ElementTree object at 0x7f3a9b9e01c0>\n"
     ]
    }
   ],
   "source": [
    "# Se guarda el xml en un document\n",
    "documentUY = parse('xmlSentimiento/TASS2019_country_UY_train.xml')\n",
    "print(documentUY)"
   ]
  },
  {
   "cell_type": "code",
   "execution_count": 64,
   "id": "643dd90b",
   "metadata": {},
   "outputs": [],
   "source": [
    "# Se saca en una lista los tweets y los sentimientos del archivo xml\n"
   ]
  },
  {
   "cell_type": "code",
   "execution_count": 65,
   "id": "5f60ee90",
   "metadata": {},
   "outputs": [
    {
     "name": "stdout",
     "output_type": "stream",
     "text": [
      "['NEU', 'N', 'N', 'NEU', 'N', 'N', 'N', 'NEU', 'N', 'N', 'NONE', 'NEU', 'NEU', 'N', 'N', 'NEU', 'N', 'P', 'NEU', 'NONE', 'P', 'P', 'NEU', 'NONE', 'P', 'N', 'P', 'N', 'N', 'P', 'P', 'P', 'P', 'N', 'N', 'NONE', 'P', 'N', 'NONE', 'NEU', 'NEU', 'P', 'N', 'P', 'P', 'N', 'P', 'P', 'NEU', 'P', 'N', 'NEU', 'P', 'NONE', 'NONE', 'NEU', 'N', 'N', 'P', 'P', 'P', 'NEU', 'N', 'P', 'NEU', 'P', 'N', 'N', 'N', 'P', 'N', 'P', 'P', 'P', 'N', 'N', 'P', 'N', 'P', 'NEU', 'N', 'P', 'P', 'NEU', 'P', 'N', 'N', 'NEU', 'N', 'P', 'N', 'N', 'N', 'N', 'NONE', 'P', 'P', 'N', 'N', 'N', 'P', 'P', 'P', 'N', 'NEU', 'NEU', 'N', 'P', 'NEU', 'N', 'P', 'NONE', 'NEU', 'P', 'NEU', 'NEU', 'N', 'NEU', 'N', 'N', 'N', 'N', 'NEU', 'P', 'NEU', 'P', 'P', 'P', 'NEU', 'P', 'NEU', 'P', 'N', 'P', 'NEU', 'P', 'P', 'N', 'P', 'NONE', 'NEU', 'N', 'NEU', 'N', 'NEU', 'P', 'NONE', 'N', 'N', 'NEU', 'P', 'N', 'P', 'N', 'N', 'N', 'P', 'N', 'P', 'P', 'NEU', 'N', 'P', 'NONE', 'P', 'NEU', 'P', 'N', 'N', 'N', 'N', 'P', 'P', 'P', 'NEU', 'NEU', 'N', 'N', 'NEU', 'N', 'N', 'P', 'P', 'NEU', 'NEU', 'N', 'P', 'NEU', 'N', 'P', 'P', 'N', 'NEU', 'N', 'NONE', 'NEU', 'P', 'N', 'NONE', 'N', 'NONE', 'N', 'N', 'N', 'P', 'N', 'N', 'P', 'N', 'N', 'N', 'P', 'P', 'NONE', 'N', 'N', 'NEU', 'P', 'N', 'P', 'P', 'N', 'NEU', 'P', 'N', 'NONE', 'NONE', 'N', 'N', 'P', 'N', 'N', 'N', 'N', 'NEU', 'NONE', 'N', 'NEU', 'N', 'N', 'N', 'NONE', 'NEU', 'N', 'NEU', 'NEU', 'N', 'NONE', 'N', 'N', 'P', 'N', 'N', 'N', 'P', 'P', 'P', 'N', 'N', 'NEU', 'N', 'P', 'NEU', 'N', 'N', 'N', 'N', 'P', 'P', 'N', 'P', 'P', 'NEU', 'NEU', 'NEU', 'P', 'P', 'NONE', 'N', 'NEU', 'N', 'P', 'NEU', 'N', 'N', 'P', 'N', 'NEU', 'NONE', 'NEU', 'N', 'P', 'NONE', 'P', 'P', 'NONE', 'NONE', 'N', 'N', 'NEU', 'N', 'N', 'NEU', 'P', 'P', 'N', 'N', 'N', 'N', 'N', 'P', 'NEU', 'NEU', 'N', 'P', 'N', 'N', 'NONE', 'NEU', 'P', 'N', 'P', 'N', 'NONE', 'N', 'NEU', 'N', 'NEU', 'N', 'N', 'NEU', 'N', 'P', 'N', 'N', 'NONE', 'NONE', 'N', 'N', 'NONE', 'N', 'NEU', 'NONE', 'P', 'N', 'N', 'NEU', 'N', 'P', 'NONE', 'P', 'N', 'NEU', 'P', 'NONE', 'NEU', 'NEU', 'N', 'N', 'P', 'N', 'N', 'NONE', 'NONE', 'P', 'P', 'P', 'N', 'N', 'NONE', 'P', 'N', 'P', 'NONE', 'N', 'NONE', 'NONE', 'N', 'N', 'N', 'P', 'P', 'P', 'N', 'NEU', 'NONE', 'N', 'N', 'N', 'P', 'NEU', 'N', 'N', 'N', 'N', 'NONE', 'NEU', 'P', 'NEU', 'P', 'N', 'P', 'P', 'NEU', 'P', 'N', 'NONE', 'NONE', 'P', 'NONE', 'P', 'NONE', 'N', 'P', 'NONE', 'NEU', 'P', 'N', 'P', 'N', 'P', 'NONE', 'P', 'NONE', 'N', 'N', 'NEU', 'N', 'N', 'NONE', 'P', 'P', 'NEU', 'NEU', 'P', 'N', 'P', 'N', 'P', 'NEU', 'N', 'N', 'NONE', 'NONE', 'NEU', 'P', 'NEU', 'N', 'N', 'P', 'NONE', 'NEU', 'P', 'P', 'P', 'P', 'N', 'P', 'P', 'P', 'N', 'N', 'NEU', 'P', 'NEU', 'P', 'N', 'P', 'NEU', 'NEU', 'N', 'NEU', 'N', 'NEU', 'N', 'NEU', 'N', 'P', 'N', 'P', 'P', 'N', 'N', 'NONE', 'N', 'P', 'NEU', 'P', 'NONE', 'N', 'N', 'P', 'N', 'N', 'P', 'NEU', 'P', 'NEU', 'NEU', 'N', 'NEU', 'N', 'N', 'P', 'NEU', 'P', 'N', 'P', 'N', 'N', 'NONE', 'P', 'P', 'P', 'NEU', 'N', 'P', 'N', 'NEU', 'NEU', 'P', 'N', 'NEU', 'P', 'P', 'NONE', 'NEU', 'NEU', 'N', 'NEU', 'P', 'N', 'NEU', 'P', 'P', 'NEU', 'N', 'NONE', 'NEU', 'P', 'N', 'P', 'P', 'NEU', 'P', 'NONE', 'NEU', 'P', 'P', 'P', 'N', 'NEU', 'NEU', 'P', 'N', 'NEU', 'P', 'NEU', 'NEU', 'N', 'N', 'NONE', 'NEU', 'NEU', 'NEU', 'N', 'NEU', 'N', 'N', 'N', 'N', 'N', 'N', 'N', 'N', 'N', 'N', 'NEU', 'NONE', 'N', 'P', 'P', 'NEU', 'NEU', 'N', 'N', 'N', 'N', 'P', 'NONE', 'NONE', 'N', 'NEU', 'NONE', 'NEU', 'N', 'N', 'N', 'N', 'N', 'P', 'P', 'N', 'N', 'N', 'P', 'NEU', 'N', 'N', 'P', 'N', 'N', 'NEU', 'N', 'N', 'NONE', 'NONE', 'P', 'N', 'P', 'NONE', 'N', 'P', 'N', 'P', 'NEU', 'N', 'NONE', 'NONE', 'P', 'P', 'P', 'P', 'NEU', 'NONE', 'P', 'N', 'N', 'NEU', 'P', 'P', 'N', 'NONE', 'N', 'N', 'NEU', 'P', 'NEU', 'N', 'N', 'N', 'N', 'NEU', 'P', 'P', 'NEU', 'P', 'P', 'P', 'P', 'P', 'N', 'NONE', 'P', 'NEU', 'NEU', 'P', 'N', 'N', 'P', 'N', 'N', 'N', 'NONE', 'P', 'P', 'P', 'P', 'NEU', 'NEU', 'NEU', 'P', 'N', 'P', 'P', 'N', 'N', 'P', 'NEU', 'NEU', 'P', 'P', 'N', 'P', 'NEU', 'P', 'P', 'N', 'NEU', 'NEU', 'P', 'NONE', 'P', 'N', 'N', 'NEU', 'N', 'N', 'N', 'P', 'NONE', 'NEU', 'NEU', 'P', 'N', 'N', 'N', 'N', 'N', 'P', 'N', 'P', 'P', 'N', 'N', 'P', 'N', 'P', 'N', 'N', 'P', 'P', 'NONE', 'N', 'NEU', 'N', 'NEU', 'N', 'NEU', 'N', 'N', 'P', 'N', 'P', 'P', 'N', 'N', 'P', 'N', 'NEU', 'NONE', 'N', 'P', 'P', 'P', 'N', 'NEU', 'NONE', 'P', 'P', 'N', 'N', 'NEU', 'N', 'NONE', 'P', 'N', 'NONE', 'N', 'N', 'P', 'N', 'N', 'P', 'P', 'N', 'NEU', 'P', 'N', 'P', 'N', 'NEU', 'NEU', 'P', 'N', 'P', 'P', 'P', 'NEU', 'N', 'NEU', 'N', 'N', 'N', 'N', 'N', 'NEU', 'NEU', 'NEU', 'P', 'N', 'NEU', 'N', 'N', 'P', 'N', 'N', 'NEU', 'N', 'P', 'P', 'N', 'N', 'N', 'P', 'P', 'N', 'P', 'N', 'N', 'NEU', 'N', 'N', 'N', 'N', 'NEU', 'P', 'P', 'N', 'NEU', 'NEU', 'P', 'N', 'NEU', 'N', 'P', 'N', 'NONE', 'P', 'NEU', 'NEU', 'P', 'N', 'NEU', 'N', 'NEU', 'N', 'NONE', 'NONE', 'N', 'P', 'NEU', 'NONE', 'N', 'NONE', 'N', 'N', 'P', 'NEU', 'P', 'N', 'N', 'NEU', 'NONE', 'NEU', 'NEU', 'P', 'P', 'NONE', 'P', 'P', 'N', 'P', 'NONE', 'NEU', 'P', 'NONE', 'P', 'NEU', 'N', 'P', 'N', 'N', 'P', 'N', 'P', 'NONE', 'N', 'P', 'NONE', 'N', 'P', 'N', 'N', 'N', 'NEU', 'P', 'N', 'NEU', 'NONE', 'N', 'NEU', 'P', 'P', 'NEU', 'N', 'N', 'P', 'P', 'N', 'P', 'NEU', 'NEU', 'P', 'N', 'NEU', 'N', 'NEU', 'P', 'P', 'N', 'NEU', 'P', 'P', 'N', 'N', 'N', 'NONE', 'P', 'N', 'P', 'NEU', 'N', 'P', 'P', 'NEU', 'P', 'P', 'NONE', 'NEU', 'N', 'N', 'NEU']\n"
     ]
    }
   ],
   "source": [
    "# Se presenta la lista de sentimientos y se pasa todos los datos\n",
    "# a una lista con el objetivo de pasarlos a un data frame.\n",
    "listid= []\n",
    "listUser = []\n",
    "listContent = []\n",
    "listDate = []\n",
    "listlang = []\n",
    "listSentiment=[]\n",
    "for item in documentUY.iterfind('tweet'):\n",
    "    listid.append(item.findtext('tweetid'))\n",
    "    listUser.append(item.findtext('user'))\n",
    "    listContent.append(item.findtext('content'))\n",
    "    listDate.append(item.findtext('date'))\n",
    "    listlang.append(item.findtext('lang'))\n",
    "    listSentiment.append(item.find('sentiment').find(\"polarity\").findtext('value'))\n",
    "print(listaSentimiento)"
   ]
  },
  {
   "cell_type": "code",
   "execution_count": 66,
   "id": "17793696",
   "metadata": {},
   "outputs": [
    {
     "name": "stdout",
     "output_type": "stream",
     "text": [
      "Lista id: 943\n",
      "Lista user: 943\n",
      "Lista content: 943\n",
      "Lista date: 943\n",
      "Lista lang: 943\n",
      "Lista sentiment: 943\n"
     ]
    }
   ],
   "source": [
    "# Se cuenta si el numero de filas son las mismas que hay en todas las columnas\n",
    "print(\"Lista id:\",len(listid))\n",
    "print(\"Lista user:\",len(listUser))\n",
    "print(\"Lista content:\",len(listContent))\n",
    "print(\"Lista date:\",len(listDate))\n",
    "print(\"Lista lang:\",len(listlang))\n",
    "print(\"Lista sentiment:\",len(listSentiment))\n"
   ]
  },
  {
   "cell_type": "code",
   "execution_count": 67,
   "id": "aa408343",
   "metadata": {},
   "outputs": [],
   "source": [
    "dataCSV = pd.DataFrame({'tweetid':listid,'user': listUser, 'content':listaUY ,'date:':listDate,'lang':listlang,'sentiment':listaSentimiento})"
   ]
  },
  {
   "cell_type": "code",
   "execution_count": 68,
   "id": "be1f90bb",
   "metadata": {},
   "outputs": [],
   "source": [
    "# Se lo transforma el dataFrame a csv\n",
    "dataCSV = dataCSV.to_csv(\"CountryUY.csv\")"
   ]
  },
  {
   "cell_type": "code",
   "execution_count": 69,
   "id": "557ae12a",
   "metadata": {},
   "outputs": [
    {
     "name": "stdout",
     "output_type": "stream",
     "text": [
      "None\n"
     ]
    }
   ],
   "source": [
    "print(dataCSV)"
   ]
  },
  {
   "cell_type": "code",
   "execution_count": null,
   "id": "2a4d866a",
   "metadata": {},
   "outputs": [],
   "source": []
  },
  {
   "cell_type": "code",
   "execution_count": null,
   "id": "4c12ce16",
   "metadata": {},
   "outputs": [],
   "source": []
  }
 ],
 "metadata": {
  "kernelspec": {
   "display_name": "Python 3 (ipykernel)",
   "language": "python",
   "name": "python3"
  },
  "language_info": {
   "codemirror_mode": {
    "name": "ipython",
    "version": 3
   },
   "file_extension": ".py",
   "mimetype": "text/x-python",
   "name": "python",
   "nbconvert_exporter": "python",
   "pygments_lexer": "ipython3",
   "version": "3.10.4"
  }
 },
 "nbformat": 4,
 "nbformat_minor": 5
}
